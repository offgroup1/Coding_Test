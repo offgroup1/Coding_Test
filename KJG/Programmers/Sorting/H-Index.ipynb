{
 "cells": [
  {
   "cell_type": "markdown",
   "metadata": {},
   "source": [
    "# Programmers\n",
    "## <H-Index>\n",
    "< https://programmers.co.kr/learn/courses/30/lessons/42747 >\n",
    "\n",
    "```\n",
    "H-Index는 과학자의 생산성과 영향력을 나타내는 지표입니다. 어느 과학자의 H-Index를 나타내는 값인 h를 구하려고 합니다. 위키백과1에 따르면, H-Index는 다음과 같이 구합니다.\n",
    "\n",
    "어떤 과학자가 발표한 논문 n편 중, h번 이상 인용된 논문이 h편 이상이고 나머지 논문이 h번 이하 인용되었다면 h의 최댓값이 이 과학자의 H-Index입니다.\n",
    "\n",
    "어떤 과학자가 발표한 논문의 인용 횟수를 담은 배열 citations가 매개변수로 주어질 때, 이 과학자의 H-Index를 return 하도록 solution 함수를 작성해주세요.\n",
    "\n",
    "<제한사항>\n",
    "과학자가 발표한 논문의 수는 1편 이상 1,000편 이하입니다.\n",
    "논문별 인용 횟수는 0회 이상 10,000회 이하입니다.\n"
   ]
  },
  {
   "cell_type": "code",
   "execution_count": null,
   "metadata": {},
   "outputs": [],
   "source": [
    "def solution(citations):\n",
    "    answer = 0\n",
    "    # citations 을 오름차 순으로 정렬\n",
    "    citations.sort()\n",
    "    # citations 의 길이를 n이라 선언\n",
    "    n = len(citations)\n",
    "    # 0 ~ n 까지 반복\n",
    "    for i in range(n):\n",
    "        h_index = n - i\n",
    "        \n",
    "        if citations [i] >= h_index :\n",
    "            answer = h_index\n",
    "            break\n",
    "\n",
    "    return answer"
   ]
  },
  {
   "cell_type": "markdown",
   "metadata": {},
   "source": [
    "---"
   ]
  },
  {
   "cell_type": "code",
   "execution_count": 10,
   "metadata": {},
   "outputs": [
    {
     "data": {
      "text/plain": [
       "[0, 1, 3, 5, 6]"
      ]
     },
     "execution_count": 10,
     "metadata": {},
     "output_type": "execute_result"
    }
   ],
   "source": [
    "citations = [3, 0, 6, 1, 5]\n",
    "\n",
    "citations.sort()\n",
    "\n",
    "citations"
   ]
  },
  {
   "cell_type": "code",
   "execution_count": 11,
   "metadata": {},
   "outputs": [
    {
     "data": {
      "text/plain": [
       "5"
      ]
     },
     "execution_count": 11,
     "metadata": {},
     "output_type": "execute_result"
    }
   ],
   "source": [
    "len(citations)"
   ]
  },
  {
   "cell_type": "code",
   "execution_count": 13,
   "metadata": {},
   "outputs": [
    {
     "data": {
      "text/plain": [
       "range(0, 5)"
      ]
     },
     "execution_count": 13,
     "metadata": {},
     "output_type": "execute_result"
    }
   ],
   "source": [
    "for i in range(len(citations)):\n",
    "    if citations[i] >= ( len(citations) - i ):"
   ]
  },
  {
   "cell_type": "code",
   "execution_count": 18,
   "metadata": {},
   "outputs": [],
   "source": [
    "def solution(citations):\n",
    "    answer = 0\n",
    "\n",
    "    for i in range(len(citations)):\n",
    "        if citations[i] >= ( len(citations) - i ):\n",
    "            return len(citations) - i # 리턴 값을 어떻게 줘야할까?"
   ]
  },
  {
   "cell_type": "code",
   "execution_count": 19,
   "metadata": {},
   "outputs": [
    {
     "data": {
      "text/plain": [
       "3"
      ]
     },
     "execution_count": 19,
     "metadata": {},
     "output_type": "execute_result"
    }
   ],
   "source": [
    "solution([3, 0, 6, 1, 5])"
   ]
  },
  {
   "cell_type": "markdown",
   "metadata": {},
   "source": [
    "```\n",
    "테스트 1 〉\t실패 (0.01ms, 10.1MB)\n",
    "테스트 2 〉\t실패 (0.01ms, 10.2MB)\n",
    "테스트 3 〉\t실패 (0.00ms, 10.3MB)\n",
    "테스트 4 〉\t실패 (0.00ms, 10.1MB)\n",
    "테스트 5 〉\t실패 (0.00ms, 10.1MB)\n",
    "테스트 6 〉\t실패 (0.00ms, 10.3MB)\n",
    "테스트 7 〉\t실패 (0.01ms, 10.2MB)\n",
    "테스트 8 〉\t실패 (0.00ms, 10.2MB)\n",
    "테스트 9 〉\t통과 (0.00ms, 10.2MB)\n",
    "테스트 10 〉\t실패 (0.00ms, 10.2MB)\n",
    "테스트 11 〉\t실패 (0.00ms, 10.1MB)\n",
    "테스트 12 〉\t실패 (0.00ms, 10.3MB)\n",
    "테스트 13 〉\t실패 (0.00ms, 10.2MB)\n",
    "테스트 14 〉\t실패 (0.00ms, 10.1MB)\n",
    "테스트 15 〉\t실패 (0.00ms, 10.2MB)\n",
    "테스트 16 〉\t실패 (0.00ms, 10.2MB)\n",
    "```"
   ]
  },
  {
   "cell_type": "markdown",
   "metadata": {},
   "source": [
    "---"
   ]
  },
  {
   "cell_type": "code",
   "execution_count": 1,
   "metadata": {},
   "outputs": [],
   "source": [
    "def solution(citations):\n",
    "    answer = 0\n",
    "    # citations 을 오름차 순으로 정렬\n",
    "    citations.sort()\n",
    "    # citations 의 길이를 n이라 선언\n",
    "    n = len(citations)\n",
    "    # 0 ~ n 까지 반복\n",
    "    for i in range(n):\n",
    "        h_index = n - i\n",
    "        \n",
    "        if citations [i] >= h_index :\n",
    "            answer = h_index\n",
    "            return answer"
   ]
  },
  {
   "cell_type": "code",
   "execution_count": 2,
   "metadata": {},
   "outputs": [
    {
     "data": {
      "text/plain": [
       "3"
      ]
     },
     "execution_count": 2,
     "metadata": {},
     "output_type": "execute_result"
    }
   ],
   "source": [
    "solution([3, 0, 6, 1, 5])"
   ]
  },
  {
   "cell_type": "markdown",
   "metadata": {},
   "source": [
    "```\n",
    "테스트 1 〉\t통과 (0.05ms, 10.1MB)\n",
    "테스트 2 〉\t통과 (0.07ms, 10.2MB)\n",
    "테스트 3 〉\t통과 (0.09ms, 10.2MB)\n",
    "테스트 4 〉\t통과 (0.06ms, 10.2MB)\n",
    "테스트 5 〉\t통과 (0.09ms, 10.2MB)\n",
    "테스트 6 〉\t통과 (0.08ms, 10.3MB)\n",
    "테스트 7 〉\t통과 (0.03ms, 10.3MB)\n",
    "테스트 8 〉\t통과 (0.01ms, 10.2MB)\n",
    "테스트 9 〉\t통과 (0.01ms, 10.2MB)\n",
    "테스트 10 〉\t통과 (0.05ms, 10MB)\n",
    "테스트 11 〉\t통과 (0.09ms, 10.1MB)\n",
    "테스트 12 〉\t통과 (0.01ms, 10.2MB)\n",
    "테스트 13 〉\t통과 (0.08ms, 10.1MB)\n",
    "테스트 14 〉\t통과 (0.09ms, 10.1MB)\n",
    "테스트 15 〉\t통과 (0.11ms, 10.2MB)\n",
    "테스트 16 〉\t실패 (0.00ms, 9.99MB)\n",
    "```"
   ]
  },
  {
   "cell_type": "markdown",
   "metadata": {},
   "source": [
    "---"
   ]
  },
  {
   "cell_type": "code",
   "execution_count": 4,
   "metadata": {},
   "outputs": [],
   "source": [
    "def solution(citations):\n",
    "    answer = 0\n",
    "    # citations 을 오름차 순으로 정렬\n",
    "    citations.sort()\n",
    "    # citations 의 길이를 n이라 선언\n",
    "    n = len(citations)\n",
    "    # 0 ~ n 까지 반복\n",
    "    for i in range(n):\n",
    "        h_index = n - i\n",
    "        \n",
    "        if citations [i] >= h_index :\n",
    "            answer = h_index\n",
    "            break\n",
    "\n",
    "    return answer"
   ]
  },
  {
   "cell_type": "markdown",
   "metadata": {},
   "source": [
    "```\n",
    "테스트 1 〉\t통과 (0.04ms, 10MB)\n",
    "테스트 2 〉\t통과 (0.10ms, 10.2MB)\n",
    "테스트 3 〉\t통과 (0.06ms, 10.2MB)\n",
    "테스트 4 〉\t통과 (0.06ms, 10MB)\n",
    "테스트 5 〉\t통과 (0.07ms, 10.1MB)\n",
    "테스트 6 〉\t통과 (0.08ms, 10.1MB)\n",
    "테스트 7 〉\t통과 (0.03ms, 10MB)\n",
    "테스트 8 〉\t통과 (0.01ms, 10.2MB)\n",
    "테스트 9 〉\t통과 (0.01ms, 9.98MB)\n",
    "테스트 10 〉\t통과 (0.03ms, 10.3MB)\n",
    "테스트 11 〉\t통과 (0.08ms, 10.2MB)\n",
    "테스트 12 〉\t통과 (0.01ms, 10MB)\n",
    "테스트 13 〉\t통과 (0.08ms, 10.2MB)\n",
    "테스트 14 〉\t통과 (0.07ms, 10.2MB)\n",
    "테스트 15 〉\t통과 (0.08ms, 10.4MB)\n",
    "테스트 16 〉\t통과 (0.00ms, 10MB)\n",
    "```"
   ]
  },
  {
   "cell_type": "markdown",
   "metadata": {},
   "source": []
  }
 ],
 "metadata": {
  "interpreter": {
   "hash": "31f2aee4e71d21fbe5cf8b01ff0e069b9275f58929596ceb00d14d90e3e16cd6"
  },
  "kernelspec": {
   "display_name": "Python 3.8.9 64-bit",
   "language": "python",
   "name": "python3"
  },
  "language_info": {
   "codemirror_mode": {
    "name": "ipython",
    "version": 3
   },
   "file_extension": ".py",
   "mimetype": "text/x-python",
   "name": "python",
   "nbconvert_exporter": "python",
   "pygments_lexer": "ipython3",
   "version": "3.8.9"
  },
  "orig_nbformat": 4
 },
 "nbformat": 4,
 "nbformat_minor": 2
}
