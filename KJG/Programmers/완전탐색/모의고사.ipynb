{
 "cells": [
  {
   "cell_type": "markdown",
   "metadata": {},
   "source": [
    "# Programmers\n",
    "## <모의고사>\n",
    "< https://programmers.co.kr/learn/courses/30/lessons/42840 >\n",
    "\n",
    "```\n",
    "수포자는 수학을 포기한 사람의 준말입니다. 수포자 삼인방은 모의고사에 수학 문제를 전부 찍으려 합니다. 수포자는 1번 문제부터 마지막 문제까지 다음과 같이 찍습니다.\n",
    "\n",
    "1번 수포자가 찍는 방식: 1, 2, 3, 4, 5, 1, 2, 3, 4, 5, ...\n",
    "2번 수포자가 찍는 방식: 2, 1, 2, 3, 2, 4, 2, 5, 2, 1, 2, 3, 2, 4, 2, 5, ...\n",
    "3번 수포자가 찍는 방식: 3, 3, 1, 1, 2, 2, 4, 4, 5, 5, 3, 3, 1, 1, 2, 2, 4, 4, 5, 5, ...\n",
    "\n",
    "1번 문제부터 마지막 문제까지의 정답이 순서대로 들은 배열 answers가 주어졌을 때, 가장 많은 문제를 맞힌 사람이 누구인지 배열에 담아 return 하도록 solution 함수를 작성해주세요.\n",
    "\n",
    "<제한 조건>\n",
    "시험은 최대 10,000 문제로 구성되어있습니다.\n",
    "문제의 정답은 1, 2, 3, 4, 5중 하나입니다.\n",
    "가장 높은 점수를 받은 사람이 여럿일 경우, return하는 값을 오름차순 정렬해주세요.\n",
    "```"
   ]
  },
  {
   "cell_type": "code",
   "execution_count": 35,
   "metadata": {},
   "outputs": [],
   "source": [
    "def solution(answer):\n",
    "    # 정답의 길이를 저장하는 변수 선언\n",
    "    answer_l = len(answer)\n",
    "\n",
    "    # 각 수포자가 찍는 번호를 리스트로 저장\n",
    "    supo_1 = [1, 2, 3, 4, 5]\n",
    "    supo_2 = [2, 1, 2, 3, 2, 4, 2, 5]\n",
    "    supo_3 = [3, 3, 1, 1, 2, 2, 4, 4, 5, 5]\n",
    "\n",
    "    # 각 수포자들이 맞춘 문제의 개수를 저장할 리스트 선언\n",
    "    score = [0, 0, 0]\n",
    "\n",
    "    # 가장 많이 맞춘 사람을 저장할 리스트 선언\n",
    "    result = []\n",
    "    \n",
    "    # for문 사용해서 각 수포자의 정답이 맞는지 체크 하고 맞다면 각 인덱스에 +1\n",
    "    for i in range(answer_l):\n",
    "        if answer[i] == supo_1[i % len(supo_1)]:\n",
    "            score[0] += 1\n",
    "    \n",
    "        if answer[i] == supo_2[i % len(supo_2)]:\n",
    "            score[1] += 1\n",
    "    \n",
    "        if answer[i] == supo_3[i % len(supo_3)]:\n",
    "            score[2] += 1\n",
    "\n",
    "    # 수포자 중에 최고 점수\n",
    "    max_score = max(score)\n",
    "\n",
    "    # 최고점수를 반영해서 가장 높은 점수를 가지면 1 2 3 중 숫자 출력\n",
    "    for i in range(3):\n",
    "        if score[i] == max_score:\n",
    "            result.append(i + 1)\n",
    "\n",
    "    return result"
   ]
  },
  {
   "cell_type": "code",
   "execution_count": 36,
   "metadata": {},
   "outputs": [
    {
     "name": "stdout",
     "output_type": "stream",
     "text": [
      "[1]\n",
      "[1, 2, 3]\n"
     ]
    }
   ],
   "source": [
    "print(solution([1,2,3,4,5]))\n",
    "print(solution([1,3,2,4,2]))"
   ]
  },
  {
   "cell_type": "markdown",
   "metadata": {},
   "source": [
    "---"
   ]
  },
  {
   "cell_type": "code",
   "execution_count": 10,
   "metadata": {},
   "outputs": [
    {
     "name": "stdout",
     "output_type": "stream",
     "text": [
      "5 8 10\n"
     ]
    }
   ],
   "source": [
    "# 각 수포자가 찍는 번호를 튜플 변수로 저장\n",
    "supo_1 = (1, 2, 3, 4, 5)\n",
    "supo_2 = (2, 1, 2, 3, 2, 4, 2, 5)\n",
    "supo_3 = (3, 3, 1, 1, 2, 2, 4, 4, 5, 5)\n",
    "\n",
    "# 각 수포자들이 찍는 길이를 저장하는 변수를 선언\n",
    "supo_1_len = len(supo_1)\n",
    "supo_2_len = len(supo_2)\n",
    "supo_3_len = len(supo_3)\n",
    "\n",
    "\n",
    "print(supo_1_len, supo_2_len, supo_3_len)"
   ]
  },
  {
   "cell_type": "code",
   "execution_count": 11,
   "metadata": {},
   "outputs": [
    {
     "name": "stdout",
     "output_type": "stream",
     "text": [
      "[0, 0, 0]\n"
     ]
    }
   ],
   "source": [
    "# 각 수포자들이 맞춘 문제의 개수를 저장할 리스트 선언\n",
    "corrects = [0] * 3\n",
    "\n",
    "print(corrects)"
   ]
  },
  {
   "cell_type": "code",
   "execution_count": 12,
   "metadata": {},
   "outputs": [
    {
     "ename": "SyntaxError",
     "evalue": "unexpected EOF while parsing (1716553596.py, line 3)",
     "output_type": "error",
     "traceback": [
      "\u001b[0;36m  Input \u001b[0;32mIn [12]\u001b[0;36m\u001b[0m\n\u001b[0;31m    \u001b[0m\n\u001b[0m    ^\u001b[0m\n\u001b[0;31mSyntaxError\u001b[0m\u001b[0;31m:\u001b[0m unexpected EOF while parsing\n"
     ]
    }
   ],
   "source": [
    "# for문 사용해서 각 수포자의 정답이 맞는지 체크하고 맞았다면 corrects 각 인덱스에 1 더하기\n",
    "for i in range(answer_l):\n",
    "    if answer[i] == supo_1[i % len[supo_1]]:\n",
    "        corrects[0] += 1\n",
    "    \n",
    "    if answer[i] == supo_2[i % len[supo_2]]:\n",
    "        corrects[1] += 1\n",
    "    \n",
    "    if answer[i] == supo_3[i % len[supo_3]]:\n",
    "        corrects[2] += 1\n",
    "\n",
    "# 수포자 중에 최고 점수\n",
    "max_correct = max(corrects)\n",
    "\n",
    "# 맞은 갯수를 반영해서 가장 높은 점수;\n",
    "    for i in range(3):\n",
    "        if corrects[i] == max_correct:\n",
    "            answer.append(i + 1)\n",
    "    "
   ]
  },
  {
   "cell_type": "code",
   "execution_count": null,
   "metadata": {},
   "outputs": [],
   "source": []
  }
 ],
 "metadata": {
  "interpreter": {
   "hash": "31f2aee4e71d21fbe5cf8b01ff0e069b9275f58929596ceb00d14d90e3e16cd6"
  },
  "kernelspec": {
   "display_name": "Python 3.8.9 64-bit",
   "language": "python",
   "name": "python3"
  },
  "language_info": {
   "codemirror_mode": {
    "name": "ipython",
    "version": 3
   },
   "file_extension": ".py",
   "mimetype": "text/x-python",
   "name": "python",
   "nbconvert_exporter": "python",
   "pygments_lexer": "ipython3",
   "version": "3.8.9"
  },
  "orig_nbformat": 4
 },
 "nbformat": 4,
 "nbformat_minor": 2
}
