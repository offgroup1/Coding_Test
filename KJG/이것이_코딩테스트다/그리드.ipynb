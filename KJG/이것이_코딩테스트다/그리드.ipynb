{
 "cells": [
  {
   "cell_type": "markdown",
   "metadata": {},
   "source": [
    " # 이코테 <큰 변수 법칙> 92p"
   ]
  },
  {
   "cell_type": "markdown",
   "metadata": {},
   "source": [
    "## sol)"
   ]
  },
  {
   "cell_type": "code",
   "execution_count": 36,
   "metadata": {},
   "outputs": [
    {
     "name": "stdout",
     "output_type": "stream",
     "text": [
      "9 6\n",
      "<class 'int'> <class 'int'>\n"
     ]
    }
   ],
   "source": [
    "# 변수입력\n",
    "N, M, K = map(int, input().split())\n",
    "\n",
    "# N size 의 list 생성\n",
    "list_N = list(map(int, input().split()))\n",
    "\n",
    "# 가장 큰수 / 가장 작은 수 구하기\n",
    "\n",
    "# 데이터 정렬 (sort) 후\n",
    "# 숫자가 가장 큰 index -1 / -2 인덱싱 해오기\n",
    "\n",
    "list_N.sort()\n",
    "num_max = int(list_N[ -1 ])\n",
    "num_max2 = int(list_N[ -2 ])\n",
    "\n",
    "print(num_max, num_max2)\n",
    "print(type(num_max), type(num_max2))"
   ]
  },
  {
   "cell_type": "code",
   "execution_count": 37,
   "metadata": {},
   "outputs": [
    {
     "name": "stdout",
     "output_type": "stream",
     "text": [
      "42\n"
     ]
    }
   ],
   "source": [
    "# M 이 을 + 1 로 나누었을 때 M 보다 클 경우 와\n",
    "# 작을 경우를 조건문을 통해 구분\n",
    "\n",
    "if M % (K + 1) >= M :\n",
    "    result = (num_max * K + num_max2 ) * (( M / ( K + 1 )) + 1 )\n",
    "    print(int(result))\n",
    "else :\n",
    "    result = (num_max * K + num_max2 ) * ( M / ( K + 1 ))\n",
    "    print(int(result))"
   ]
  }
 ],
 "metadata": {
  "interpreter": {
   "hash": "19381dae11859029849bf77a2bf763c10e0e1b48ddfabe634499c3aa535e0678"
  },
  "kernelspec": {
   "display_name": "Python 3.9.10 ('base')",
   "language": "python",
   "name": "python3"
  },
  "language_info": {
   "codemirror_mode": {
    "name": "ipython",
    "version": 3
   },
   "file_extension": ".py",
   "mimetype": "text/x-python",
   "name": "python",
   "nbconvert_exporter": "python",
   "pygments_lexer": "ipython3",
   "version": "3.9.10"
  },
  "orig_nbformat": 4
 },
 "nbformat": 4,
 "nbformat_minor": 2
}
