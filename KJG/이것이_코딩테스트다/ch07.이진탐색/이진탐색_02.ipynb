{
 "cells": [
  {
   "cell_type": "markdown",
   "metadata": {},
   "source": [
    "# 부품찾기\n",
    "\n",
    "```\n",
    "N = 5\n",
    "[8, 3, 7, 9, 2]\n",
    "\n",
    "M = 3\n",
    "[5, 7, 9]\n",
    "\n",
    "<input 예시>\n",
    "5\n",
    "8 3 7 9 2\n",
    "3\n",
    "5 7 9\n",
    "\n",
    "<output 예시>\n",
    "no yes yes\n",
    "```"
   ]
  },
  {
   "cell_type": "code",
   "execution_count": 3,
   "metadata": {},
   "outputs": [
    {
     "name": "stdout",
     "output_type": "stream",
     "text": [
      "no\n",
      "yes\n",
      "yes\n"
     ]
    }
   ],
   "source": [
    "# N = 부품 개수\n",
    "N = input()\n",
    "# parts_list = []\n",
    "\n",
    "# 가게에 있는 부품 번호 리스트 만들기 \n",
    "parts_list = list(int(input().split()))\n",
    "# for i in input().split():\n",
    "#     parts_list.append(i)\n",
    "\n",
    "# M = 손님이 요청한 개수\n",
    "M = input()\n",
    "# request_list = []\n",
    "\n",
    "# 손님이 요청한 부품 번호 리스트 만들기\n",
    "request_list = list(int(input().split))\n",
    "# for i in input().split():\n",
    "#     request_list.append(i)\n",
    "\n",
    "# 부품이 존재하는지 확인하고 있으면 yes 없으면 no 출력\n",
    "for i in request_list:\n",
    "    if i in parts_list:\n",
    "        print('yes')\n",
    "    else:\n",
    "        print('no')"
   ]
  },
  {
   "cell_type": "code",
   "execution_count": null,
   "metadata": {},
   "outputs": [],
   "source": []
  }
 ],
 "metadata": {
  "interpreter": {
   "hash": "31f2aee4e71d21fbe5cf8b01ff0e069b9275f58929596ceb00d14d90e3e16cd6"
  },
  "kernelspec": {
   "display_name": "Python 3.8.9 64-bit",
   "language": "python",
   "name": "python3"
  },
  "language_info": {
   "codemirror_mode": {
    "name": "ipython",
    "version": 3
   },
   "file_extension": ".py",
   "mimetype": "text/x-python",
   "name": "python",
   "nbconvert_exporter": "python",
   "pygments_lexer": "ipython3",
   "version": "3.8.9"
  },
  "orig_nbformat": 4
 },
 "nbformat": 4,
 "nbformat_minor": 2
}
