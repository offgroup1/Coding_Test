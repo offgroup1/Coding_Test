{
 "cells": [
  {
   "cell_type": "markdown",
   "metadata": {},
   "source": [
    " # 이코테 <큰 변수 법칙> 92p"
   ]
  },
  {
   "cell_type": "markdown",
   "metadata": {},
   "source": [
    "큰 수의 법칙’은 일반적으로 통계 분야에서 다루어지는 내용이지만 동빈이는 본인만의 방식으로 다 르게 시용하고 있다. 동빈이의 큰 수의 법칙은 다양한 수로 이루어전 배열이 있을 때 주어진 수들을 M번 더하여 가장 큰 수를 만드는 법칙이다. 단, 배열의 특정한 인덱스(번호)에 해당하는 수가 연속 해서 K번을 초과하여 더해질 수 없는 것이 이 법칙의 특징이다.  \n",
    "예를들어순서대로2,4,5,4,6으로이루어진배열이 있을때M이8이고,K가3이라고가정하자. 이 경우 특정한 인덱스의 수가 연속해서 세 번까지만 더해질 수 있으므로 큰 수의 법칙에 따른 결과 는 6 + 6 + 6 + 5 + 6 + 6 + 6 + 5안 46이 된다,  \n",
    "단, 서로 다른 인덱스에 해당하는 수가 같은 경우에도 서로 다른 것으로 간주한다. 예를 들어 순서 대로 3, 4, 3, 4, 3으로 이루어전 배열이 있을 때 M이 7이고, K가 2라고 가정하자. 이 경우 두 번째 원소에 해당하는 4와 네 번째 원소에 해당하는 4를 번갈아 두 번씩 더하는 것이 가능하다. 결과적으 로 4 + 4 + 4 + 4 + 4 + 4 + 4인 28이 도출된다.  \n",
    "배열의 크기 N, 숫자가 더해지는 횟수 M, 고리고 K가 주어질 때 동빈이의 큰 수의 법칙에 따른 결 과를출력하시오.\n",
    "\n",
    "![이미지입니당](./imag/Greedy_01_큰수의법칙.png)"
   ]
  },
  {
   "cell_type": "code",
   "execution_count": 1,
   "metadata": {},
   "outputs": [
    {
     "name": "stdout",
     "output_type": "stream",
     "text": [
      "6 5\n",
      "<class 'int'> <class 'int'>\n",
      "46\n"
     ]
    }
   ],
   "source": [
    "# sol)\n",
    "\n",
    "# 변수입력\n",
    "N, M, K = map(int, input().split())\n",
    "\n",
    "# N size 의 list 생성\n",
    "list_N = list(map(int, input().split()))\n",
    "\n",
    "# 가장 큰수 / 가장 작은 수 구하기\n",
    "\n",
    "# 데이터 정렬 (sort) 후\n",
    "# 숫자가 가장 큰 index -1 / -2 인덱싱 해오기\n",
    "\n",
    "list_N.sort()\n",
    "num_max = int(list_N[ -1 ])\n",
    "num_max2 = int(list_N[ -2 ])\n",
    "\n",
    "print(num_max, num_max2)\n",
    "print(type(num_max), type(num_max2))\n",
    "\n",
    "# M 이 을 + 1 로 나누었을 때 M 보다 클 경우 와\n",
    "# 작을 경우를 조건문을 통해 구분\n",
    "\n",
    "if M % (K + 1) >= M :\n",
    "    result = (num_max * K + num_max2 ) * (( M / ( K + 1 )) + 1 )\n",
    "    print(int(result))\n",
    "else :\n",
    "    result = (num_max * K + num_max2 ) * ( M / ( K + 1 ))\n",
    "    print(int(result))"
   ]
  }
 ],
 "metadata": {
  "interpreter": {
   "hash": "19381dae11859029849bf77a2bf763c10e0e1b48ddfabe634499c3aa535e0678"
  },
  "kernelspec": {
   "display_name": "Python 3.9.10 ('base')",
   "language": "python",
   "name": "python3"
  },
  "language_info": {
   "codemirror_mode": {
    "name": "ipython",
    "version": 3
   },
   "file_extension": ".py",
   "mimetype": "text/x-python",
   "name": "python",
   "nbconvert_exporter": "python",
   "pygments_lexer": "ipython3",
   "version": "3.9.10"
  },
  "orig_nbformat": 4
 },
 "nbformat": 4,
 "nbformat_minor": 2
}
