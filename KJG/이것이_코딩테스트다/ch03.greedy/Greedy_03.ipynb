{
 "cells": [
  {
   "cell_type": "markdown",
   "metadata": {},
   "source": [
    "# <1이 될 때까지> p111\n",
    "\n",
    "- 어떠한 수 N이 1이 될 때까지 다음의 두 과정 중 하니를· 반복적으로 선택하여 수행하려고 한다. 단, 두 번째 연산은 N이 K로 나누어떨어질 때만 선택할 수 있다.\n",
    "1. N에서 1을뺀다.  \n",
    "2. N을 K로나눈다.  \n",
    "- 예를 들어 N이 17, K가 4라고 가정하자. 이때 1번의 과정을 한 번 수행하면 N은 16이 된다. 이후 에 2번의 과정을 두 번 수행하면 N은 1이 된다. 결과적으로 이 경우 전체 과정을 실행한 횟수는 3이 된다. 이는 N을 1로 만드는 최소 횟수이다.  \n",
    "N과 K가 주어질 때 N이 1이 될 때까지 1번 혹은 2번의 과정을 수행해야 하는 최소 횟수를 구하는 프로그램을 작성하시오.  \n",
    "\n",
    "![이미지입니당](./imag/Greedy_03_1이될때까지.png)"
   ]
  },
  {
   "cell_type": "markdown",
   "metadata": {},
   "source": [
    "## 내 해석\n",
    "\n",
    "- input : N , K\n",
    "1. (1) : N - 1 을 실행한다.\n",
    "2. (2) : N 이 K 로 나누어 떨어질 때  \n",
    "    = N % K = 0 일 때  \n",
    "    -> N / K 를 실행한다.\n",
    "3. (1), (2) 과정을 반복하다 N이 1 이 되었을 때 위 과정을 실행한 횟수를 구한다."
   ]
  },
  {
   "cell_type": "code",
   "execution_count": 3,
   "metadata": {},
   "outputs": [
    {
     "name": "stdout",
     "output_type": "stream",
     "text": [
      "1\n",
      "2\n"
     ]
    }
   ],
   "source": [
    "#sol_1)\n",
    "\n",
    "# 입력을 N, K로 저장\n",
    "N, K = map(int, input().split())\n",
    "\n",
    "# count 를 0부터 시작\n",
    "count = 0\n",
    "\n",
    "# while True 로 while 문 안에 있는 조건문을 break 될 때 까지 반복\n",
    "while True :\n",
    "\n",
    "    \n",
    "    # 조건문 적용 N 이 1 이 아니면 count에 1을 추가하고 두번째 if 문 실행\n",
    "    if N != 1:\n",
    "        count = count + 1\n",
    "        \n",
    "        # N 을 K로 나누었을 때 나머지가 0이라면 즉, 나누어 떨어진다면 N 은 N을 K로 나눈 몫이다.\n",
    "        # N 을 K로 나누었을 때 나머지가 0이 아니라면 elif 문을 실행\n",
    "        if N % K == 0 :\n",
    "            N = int(N // K)\n",
    "\n",
    "        # N을 K로 나누었을 때 0이 아니라면 N - 1을 한 값을 다시 N에 리턴\n",
    "        elif N % K != 0 :\n",
    "            N = int(N - 1)\n",
    "    \n",
    "    # 첫번째 조건문에서 N이 1이라면 while 문을 break\n",
    "    else:\n",
    "        break \n",
    "\n",
    "print(N)\n",
    "print(count)"
   ]
  },
  {
   "cell_type": "code",
   "execution_count": 8,
   "metadata": {},
   "outputs": [
    {
     "name": "stdout",
     "output_type": "stream",
     "text": [
      "25\n",
      "0\n"
     ]
    }
   ],
   "source": [
    "# sol_2) << if문을 한 번만 쓰고싶은데 안된다 ㅠ\n",
    "\n",
    "N, K = map(int, input().split())\n",
    "\n",
    "count = 0\n",
    "\n",
    "while True :\n",
    "\n",
    "    # while 문이 실행 시 count에 1을 더한다.\n",
    "    count = count + 1        \n",
    "\n",
    "    # 조건문 추가\n",
    "    # N 을 K로 나눈 나머지가 0일 때 N은 N을 K로 나눈 몫이다.\n",
    "    if N % K == 0 :\n",
    "        N = int(N // K)\n",
    "\n",
    "    # if문이 충족되지 않는다면 elif 문 실행\n",
    "    # N 을 K로 나눈 나머지가 0이 아니라면 N은 N - 1 한 값을 다시 N에 리턴\n",
    "    elif N % K != 0 :\n",
    "        N = int(N - 1)\n",
    "\n",
    "    # 첫번 째 elif문이 충족되지 않는다면 두번째 elif문 실행\n",
    "    # N이 1이라면 while문을 break\n",
    "    elif N == 1 :\n",
    "        break \n",
    "\n",
    "print(N)\n",
    "print(count)"
   ]
  }
 ],
 "metadata": {
  "interpreter": {
   "hash": "19381dae11859029849bf77a2bf763c10e0e1b48ddfabe634499c3aa535e0678"
  },
  "kernelspec": {
   "display_name": "Python 3.9.10 ('base')",
   "language": "python",
   "name": "python3"
  },
  "language_info": {
   "codemirror_mode": {
    "name": "ipython",
    "version": 3
   },
   "file_extension": ".py",
   "mimetype": "text/x-python",
   "name": "python",
   "nbconvert_exporter": "python",
   "pygments_lexer": "ipython3",
   "version": "3.9.10"
  },
  "orig_nbformat": 4
 },
 "nbformat": 4,
 "nbformat_minor": 2
}
