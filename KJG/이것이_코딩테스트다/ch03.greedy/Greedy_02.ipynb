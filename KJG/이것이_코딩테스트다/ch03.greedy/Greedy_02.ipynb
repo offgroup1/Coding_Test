{
 "cells": [
  {
   "cell_type": "markdown",
   "metadata": {},
   "source": [
    "# <숫자 카드 게임> 108p\n",
    "\n",
    "- 숫자 카드 게임은 여러 개의 숫자 카드 중에서 가장 높은 숫자가 쓰인 카드 한 장을 뽑는 게임이다. 단, 게임의 룰을 지키며 카드를 뽑아야 하고 를은 다음과 같다.  \n",
    "1. 숫자가쓰인카드들이NX M형태로놓여있다.이때N은행의개수를의미하며,M은열 의개수를의미한다.  \n",
    "2. 먼저 뽑고자 하는 카드가 포합되어 있는 행을 선택한다.  \n",
    "3. 그다음 선택된 행에 포함된 카드들 중 가장 숫자가 낮은 카드를 뽑아이:한다.  \n",
    "4. 띠라서 처음에 가드를골라낼 행을 선택할 때, 이후에 해당 행에서 가장숫자가 낮은 카드를뽑을 것을 고려하여 최종적으로 가장높은숫자의 카드를뽑을수 있도록 전략을세워야 한다.  \n",
    "\n",
    "\n",
    "![이미지입니당](./imag/Greedy_02_숫자카드게임.png)\n",
    "\n"
   ]
  },
  {
   "cell_type": "markdown",
   "metadata": {},
   "source": [
    "## 내 해석\n",
    "-> 행을 sort 정렬 후 index 0 (가장 작은 수)로  \n",
    "   list를 만든 후 리스트에서 가장 높은 수가 나올 수 있게 만들어보자."
   ]
  },
  {
   "cell_type": "code",
   "execution_count": 13,
   "metadata": {},
   "outputs": [
    {
     "name": "stdout",
     "output_type": "stream",
     "text": [
      "2 4\n",
      "<class 'int'> <class 'int'>\n",
      "3\n"
     ]
    }
   ],
   "source": [
    "# sol_1)\n",
    "N, M = map(int, input().split())\n",
    "\n",
    "print(N, M)\n",
    "print(type(N), type(M))\n",
    "\n",
    "list_matrix = []\n",
    "\n",
    "# N 행에 대한 반복 연산 만들기\n",
    "for i in range(N) :\n",
    "    \n",
    "    # 입력되는 행을 input으로 변환해서 list_matrix에 추가하기\n",
    "    list_matrix.append(min(list(input().split())))\n",
    "\n",
    "    # list_matrix 를 sort 해서 오름차 순으로 정렬하고, 가장 큰 값인 index -1 값을 result에 대입\n",
    "    list_matrix.sort()\n",
    "    list_max = list_matrix[-1]\n",
    "    result = list_max\n",
    "\n",
    "\n",
    "# result 값 출력하기\n",
    "print(result)"
   ]
  },
  {
   "cell_type": "code",
   "execution_count": 14,
   "metadata": {},
   "outputs": [
    {
     "name": "stdout",
     "output_type": "stream",
     "text": [
      "2 4\n",
      "<class 'int'> <class 'int'>\n",
      "3\n"
     ]
    }
   ],
   "source": [
    "# sol_2)\n",
    "N, M = map(int, input().split())\n",
    "\n",
    "print(N, M)\n",
    "print(type(N), type(M))\n",
    "\n",
    "list_matrix = [ ]\n",
    "\n",
    "# N 행에 대한 반복 연산 만들기\n",
    "for i in range(N) :\n",
    "    \n",
    "    # 입력되는 행의 값의 가장 작은 수를 변수 min_num 으로 저장 후 list_matrix에 append\n",
    "    min_num = min(list(map(int, input().split())))\n",
    "    list_matrix.append(min_num)\n",
    "\n",
    "# for 문을 끝내고 result 에 list_matrix의 최대값을 저장\n",
    "result = max(list_matrix)\n",
    "\n",
    "# result값을 출력\n",
    "print(result)"
   ]
  }
 ],
 "metadata": {
  "interpreter": {
   "hash": "19381dae11859029849bf77a2bf763c10e0e1b48ddfabe634499c3aa535e0678"
  },
  "kernelspec": {
   "display_name": "Python 3.9.10 ('base')",
   "language": "python",
   "name": "python3"
  },
  "language_info": {
   "codemirror_mode": {
    "name": "ipython",
    "version": 3
   },
   "file_extension": ".py",
   "mimetype": "text/x-python",
   "name": "python",
   "nbconvert_exporter": "python",
   "pygments_lexer": "ipython3",
   "version": "3.8.13"
  },
  "orig_nbformat": 4
 },
 "nbformat": 4,
 "nbformat_minor": 2
}
