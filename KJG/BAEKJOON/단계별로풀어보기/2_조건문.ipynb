{
 "cells": [
  {
   "cell_type": "code",
   "execution_count": 55,
   "metadata": {},
   "outputs": [
    {
     "name": "stdout",
     "output_type": "stream",
     "text": [
      "==\n"
     ]
    }
   ],
   "source": [
    "# 1330\n",
    "A, B = input().split()\n",
    "\n",
    "A = int(A)\n",
    "B = int(B)\n",
    "\n",
    "if (A > B):\n",
    "    print(\">\")\n",
    "elif (A < B) :\n",
    "    print(\"<\")\n",
    "else :\n",
    "    print(\"==\")"
   ]
  },
  {
   "cell_type": "code",
   "execution_count": 60,
   "metadata": {},
   "outputs": [
    {
     "name": "stdout",
     "output_type": "stream",
     "text": [
      "F\n"
     ]
    }
   ],
   "source": [
    "# 9498\n",
    "score = int(input())\n",
    "\n",
    "if (score >= 90) :\n",
    "    print('A')\n",
    "    \n",
    "elif (score >= 80) :\n",
    "    print('B')\n",
    "    \n",
    "elif (score >= 70) :\n",
    "    print('C')\n",
    "    \n",
    "elif (score >= 60) :\n",
    "    print('D')\n",
    "    \n",
    "else :\n",
    "    print('F')\n"
   ]
  },
  {
   "cell_type": "code",
   "execution_count": null,
   "metadata": {},
   "outputs": [],
   "source": []
  }
 ],
 "metadata": {
  "interpreter": {
   "hash": "3eae7330d62619561515f3500bd27c9089a5963ead3b7fe2781c89f72e2f86ce"
  },
  "kernelspec": {
   "display_name": "Python 3.9.10 ('base')",
   "language": "python",
   "name": "python3"
  },
  "language_info": {
   "codemirror_mode": {
    "name": "ipython",
    "version": 3
   },
   "file_extension": ".py",
   "mimetype": "text/x-python",
   "name": "python",
   "nbconvert_exporter": "python",
   "pygments_lexer": "ipython3",
   "version": "3.9.10"
  },
  "orig_nbformat": 4
 },
 "nbformat": 4,
 "nbformat_minor": 2
}
