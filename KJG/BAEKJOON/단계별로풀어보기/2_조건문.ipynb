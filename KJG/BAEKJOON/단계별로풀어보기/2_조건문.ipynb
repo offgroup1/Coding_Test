{
 "cells": [
  {
   "cell_type": "code",
   "execution_count": 55,
   "metadata": {},
   "outputs": [
    {
     "name": "stdout",
     "output_type": "stream",
     "text": [
      "==\n"
     ]
    }
   ],
   "source": [
    "# 1330\n",
    "A, B = input().split()\n",
    "\n",
    "A = int(A)\n",
    "B = int(B)\n",
    "\n",
    "if (A > B):\n",
    "    print(\">\")\n",
    "elif (A < B) :\n",
    "    print(\"<\")\n",
    "else :\n",
    "    print(\"==\")"
   ]
  },
  {
   "cell_type": "code",
   "execution_count": 60,
   "metadata": {},
   "outputs": [
    {
     "name": "stdout",
     "output_type": "stream",
     "text": [
      "F\n"
     ]
    }
   ],
   "source": [
    "# 9498\n",
    "score = int(input())\n",
    "\n",
    "if (score >= 90) :\n",
    "    print('A')\n",
    "    \n",
    "elif (score >= 80) :\n",
    "    print('B')\n",
    "    \n",
    "elif (score >= 70) :\n",
    "    print('C')\n",
    "    \n",
    "elif (score >= 60) :\n",
    "    print('D')\n",
    "    \n",
    "else :\n",
    "    print('F')\n"
   ]
  },
  {
   "cell_type": "code",
   "execution_count": 4,
   "metadata": {},
   "outputs": [
    {
     "name": "stdout",
     "output_type": "stream",
     "text": [
      "0\n"
     ]
    }
   ],
   "source": [
    "#2753\n",
    "yoon_year = int(input())\n",
    "\n",
    "if ((yoon_year % 4 == 0 ) and (yoon_year % 100 != 0)) or ( yoon_year % 400 == 0 ) :\n",
    "    print('1')\n",
    "\n",
    "else :\n",
    "    print('0')\n",
    "    "
   ]
  },
  {
   "cell_type": "code",
   "execution_count": 9,
   "metadata": {},
   "outputs": [
    {
     "name": "stdout",
     "output_type": "stream",
     "text": [
      "4\n"
     ]
    }
   ],
   "source": [
    "#14681\n",
    "x = int(input())\n",
    "y = int(input())\n",
    "\n",
    "if (x > 0) and (y > 0) :\n",
    "    print ('1')\n",
    "\n",
    "elif (x < 0) and (y > 0) :\n",
    "    print('2')\n",
    "\n",
    "elif (x < 0) and (y < 0) :\n",
    "    print('3')\n",
    "\n",
    "elif (x > 0) and (y < 0) :\n",
    "    print('4')"
   ]
  },
  {
   "cell_type": "code",
   "execution_count": 11,
   "metadata": {},
   "outputs": [
    {
     "name": "stdout",
     "output_type": "stream",
     "text": [
      "22 55\n"
     ]
    }
   ],
   "source": [
    "#2884\n",
    "hh, mm = input().split()\n",
    "\n",
    "hh = int(hh)\n",
    "mm = int(mm)\n",
    "\n",
    "if mm >= 45 :\n",
    "    print(hh, mm - 45)\n",
    "\n",
    "elif mm < 45 and hh > 0 :\n",
    "    print(hh - 1, mm + 15)\n",
    "\n",
    "else:\n",
    "    print(23, mm + 15)\n",
    "\n",
    "# mm 기준을 44로 해서 45에 대한 기준이 없어져 틀렸었음 :("
   ]
  },
  {
   "cell_type": "code",
   "execution_count": 14,
   "metadata": {},
   "outputs": [
    {
     "name": "stdout",
     "output_type": "stream",
     "text": [
      "18 40\n"
     ]
    }
   ],
   "source": [
    "# 2525\n",
    "hh, mm = input().split()\n",
    "timer = input()\n",
    "timer_h = timer // 60\n",
    "timer_m = timer % 60\n",
    "hh += timer_h\n",
    "mm += timer_m\n",
    "if mm >= 60:\n",
    "    hh += 1\n",
    "    mm -= 60\n",
    "elif hh >= 24 :\n",
    "    hh -= 24\n",
    "print(hh, mm)\n",
    "# 1트 런타임에러\n",
    "# 2트 런타임에러\n",
    "# 3트 런타임에러 ㅋㅋㅋㅋㅋㅋ"
   ]
  },
  {
   "cell_type": "code",
   "execution_count": null,
   "metadata": {},
   "outputs": [],
   "source": [
    "# 2480\n",
    "a, b, c = map(int, input().split())\n",
    "\n",
    "if a == b == c:\n",
    "    print(10000+a*1000)\n",
    "elif a == b:\n",
    "    print(1000+a*100)\n",
    "elif a == c:\n",
    "    print(1000+a*100)\n",
    "elif b == c:\n",
    "    print(1000+b*100)\n",
    "else:\n",
    "    print(100 * max(a,b,c))"
   ]
  }
 ],
 "metadata": {
  "interpreter": {
   "hash": "3eae7330d62619561515f3500bd27c9089a5963ead3b7fe2781c89f72e2f86ce"
  },
  "kernelspec": {
   "display_name": "Python 3.9.10 ('base')",
   "language": "python",
   "name": "python3"
  },
  "language_info": {
   "codemirror_mode": {
    "name": "ipython",
    "version": 3
   },
   "file_extension": ".py",
   "mimetype": "text/x-python",
   "name": "python",
   "nbconvert_exporter": "python",
   "pygments_lexer": "ipython3",
   "version": "3.9.10"
  },
  "orig_nbformat": 4
 },
 "nbformat": 4,
 "nbformat_minor": 2
}
