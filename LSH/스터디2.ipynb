{
  "nbformat": 4,
  "nbformat_minor": 0,
  "metadata": {
    "colab": {
      "name": "스터디2.ipynb",
      "provenance": []
    },
    "kernelspec": {
      "name": "python3",
      "display_name": "Python 3"
    },
    "language_info": {
      "name": "python"
    }
  },
  "cells": [
    {
      "cell_type": "markdown",
      "source": [
        "## K번째 수 ##"
      ],
      "metadata": {
        "id": "0r3nh_GNJc6n"
      }
    },
    {
      "cell_type": "code",
      "execution_count": null,
      "metadata": {
        "id": "JxO7tHY1JQ-M"
      },
      "outputs": [],
      "source": [
        "def solution(array, commands):\n",
        "    answer = []\n",
        "    for i in range(len(commands)):\n",
        "        answer.append(sorted(array[commands[i][0]-1:commands[i][1]])[commands[i][2]-1])\n",
        "    return answer"
      ]
    },
    {
      "cell_type": "markdown",
      "source": [
        "##이코테##"
      ],
      "metadata": {
        "id": "4gzL2egZJg_Z"
      }
    },
    {
      "cell_type": "code",
      "source": [
        "#위에서 아래로\n",
        "n = int(input())\n",
        "print(sorted(array))"
      ],
      "metadata": {
        "id": "zPAE8kLaJgi1"
      },
      "execution_count": null,
      "outputs": []
    },
    {
      "cell_type": "code",
      "source": [
        "#성적이 낮은 순서로 학생 출력\n",
        "n = int(input())\n",
        "a=[]\n",
        "for i in range(n): \n",
        "  m = input().split()\n",
        "  a.append((m[0],int(m[1])))\n",
        "print(sorted(a, key = lambda x:x[1]))\n"
      ],
      "metadata": {
        "colab": {
          "base_uri": "https://localhost:8080/"
        },
        "id": "qANWSdZ3Kq8M",
        "outputId": "d7a7dd62-5ca6-4a52-ca70-2ec8b4b3f0d3"
      },
      "execution_count": 11,
      "outputs": [
        {
          "output_type": "stream",
          "name": "stdout",
          "text": [
            "2\n",
            "홍길동 34\n",
            "이순신 35\n",
            "[('홍길동', 34), ('이순신', 35)]\n"
          ]
        }
      ]
    },
    {
      "cell_type": "code",
      "source": [
        "#두 배열의 원소 교체\n",
        "n,k = map(int,input().split())\n",
        "a = list(map(int,input().split()))\n",
        "b = list(map(int,input().split()))\n",
        "\n",
        "a.sort()\n",
        "b.sort(reverse=True)\n",
        "\n",
        "for i in range(k):\n",
        "  if a[i] < b[i]:\n",
        "    a[i],b[i] = b[i],a[i]\n",
        "  else: break\n",
        "print(sum(a))"
      ],
      "metadata": {
        "colab": {
          "base_uri": "https://localhost:8080/"
        },
        "id": "lEfa8nrXM-4_",
        "outputId": "31c92598-d9fe-462a-d7db-316c0a18931f"
      },
      "execution_count": 12,
      "outputs": [
        {
          "output_type": "stream",
          "name": "stdout",
          "text": [
            "5 3\n",
            "1 2 5 4 3\n",
            "5 5 6 6 5\n",
            "26\n"
          ]
        }
      ]
    }
  ]
}