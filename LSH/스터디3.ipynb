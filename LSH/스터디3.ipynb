{
  "nbformat": 4,
  "nbformat_minor": 0,
  "metadata": {
    "colab": {
      "name": "스터디3.ipynb",
      "provenance": []
    },
    "kernelspec": {
      "name": "python3",
      "display_name": "Python 3"
    },
    "language_info": {
      "name": "python"
    }
  },
  "cells": [
    {
      "cell_type": "code",
      "execution_count": null,
      "metadata": {
        "id": "kK1uIybMB2rp"
      },
      "outputs": [],
      "source": [
        "def solution(numbers):\n",
        "    answer = ''\n",
        "    numbers = [str(x) for x in numbers]\n",
        "    numbers.sort(key = lambda x: (x*4)[:4], reverse= True)\n",
        "    if numbers[0] == '0':\n",
        "        answer = '0'\n",
        "    else:\n",
        "        answer += ''.join(numbers)\n",
        "    return answer"
      ]
    }
  ]
}