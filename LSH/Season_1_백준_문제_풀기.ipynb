{
  "nbformat": 4,
  "nbformat_minor": 0,
  "metadata": {
    "colab": {
      "name": "Season 1. 백준 문제 풀기.ipynb",
      "provenance": []
    },
    "kernelspec": {
      "name": "python3",
      "display_name": "Python 3"
    },
    "language_info": {
      "name": "python"
    }
  },
  "cells": [
    {
      "cell_type": "markdown",
      "source": [
        "입출력, 계산"
      ],
      "metadata": {
        "id": "GycoXKV8x0zP"
      }
    },
    {
      "cell_type": "code",
      "execution_count": 2,
      "metadata": {
        "colab": {
          "base_uri": "https://localhost:8080/"
        },
        "id": "N6mO0Vg0sx8P",
        "outputId": "ae4f81fe-c147-40f1-9d76-fdb2190b4675"
      },
      "outputs": [
        {
          "output_type": "stream",
          "name": "stdout",
          "text": [
            "Hello World!\n"
          ]
        }
      ],
      "source": [
        "print('Hello World!')"
      ]
    },
    {
      "cell_type": "code",
      "source": [
        "print('강한친구 대한육군')\n",
        "print('강한친구 대한육군')"
      ],
      "metadata": {
        "colab": {
          "base_uri": "https://localhost:8080/"
        },
        "id": "DYtxTcLjtjav",
        "outputId": "f02fd97f-d9f3-4f7b-cf0a-5848a5215433"
      },
      "execution_count": 3,
      "outputs": [
        {
          "output_type": "stream",
          "name": "stdout",
          "text": [
            "강한친구 대한육군\n",
            "강한친구 대한육군\n"
          ]
        }
      ]
    },
    {
      "cell_type": "code",
      "source": [
        "print(\"\\\\    /\\\\\")\n",
        "print(\" )  ( ')\")\n",
        "print(\"(  /  )\")\n",
        "print(\" \\\\(__)|\")"
      ],
      "metadata": {
        "colab": {
          "base_uri": "https://localhost:8080/"
        },
        "id": "LE6p-bk_tvrl",
        "outputId": "7d164997-534e-485b-c813-1ad3b474f914"
      },
      "execution_count": 7,
      "outputs": [
        {
          "output_type": "stream",
          "name": "stdout",
          "text": [
            "\\    /\\\n",
            " )  ( ')\n",
            "(  /  )\n",
            " \\(__)|\n"
          ]
        }
      ]
    },
    {
      "cell_type": "code",
      "source": [
        "print(\"|\\_/|\")\n",
        "print(\"|q p|   /}\")\n",
        "print('( 0 )\"\"\"\\\\')  \n",
        "print('|\"^\"`    |')\n",
        "print(\"||_/=\\\\\\__|\")  "
      ],
      "metadata": {
        "colab": {
          "base_uri": "https://localhost:8080/"
        },
        "id": "BSLxY9p1uYHT",
        "outputId": "0d497c20-966c-48ee-b9cf-66450c940da8"
      },
      "execution_count": 8,
      "outputs": [
        {
          "output_type": "stream",
          "name": "stdout",
          "text": [
            "|\\_/|\n",
            "|q p|   /}\n",
            "( 0 )\"\"\"\\\n",
            "|\"^\"`    |\n",
            "||_/=\\\\__|\n"
          ]
        }
      ]
    },
    {
      "cell_type": "code",
      "source": [
        "A,B = input().split()\n",
        "print(int(A)+int(B))"
      ],
      "metadata": {
        "colab": {
          "base_uri": "https://localhost:8080/"
        },
        "id": "qpBxH8Mvuihc",
        "outputId": "64601acc-80ee-4007-c697-222c6893b69f"
      },
      "execution_count": 10,
      "outputs": [
        {
          "output_type": "stream",
          "name": "stdout",
          "text": [
            "1 2\n",
            "3\n"
          ]
        }
      ]
    },
    {
      "cell_type": "code",
      "source": [
        "A,B = input().split()\n",
        "print(int(A)-int(B))"
      ],
      "metadata": {
        "colab": {
          "base_uri": "https://localhost:8080/"
        },
        "id": "kv7uzKcsvBen",
        "outputId": "5ad2ac4f-426c-4c1a-fdce-78b160038329"
      },
      "execution_count": 11,
      "outputs": [
        {
          "output_type": "stream",
          "name": "stdout",
          "text": [
            "3 2\n",
            "1\n"
          ]
        }
      ]
    },
    {
      "cell_type": "code",
      "source": [
        "A,B = input().split()\n",
        "print(int(A)*int(B))"
      ],
      "metadata": {
        "colab": {
          "base_uri": "https://localhost:8080/"
        },
        "id": "YzlW_5ktvJjP",
        "outputId": "1b7a99ed-8c4a-4833-bff3-2062a8d5f3be"
      },
      "execution_count": 12,
      "outputs": [
        {
          "output_type": "stream",
          "name": "stdout",
          "text": [
            "1 2\n",
            "2\n"
          ]
        }
      ]
    },
    {
      "cell_type": "code",
      "source": [
        "A,B = input().split()\n",
        "print(int(A)/int(B))"
      ],
      "metadata": {
        "colab": {
          "base_uri": "https://localhost:8080/"
        },
        "id": "WIOf1rf8vRZI",
        "outputId": "41bb233b-c956-4bc9-e950-04d7ec4e8500"
      },
      "execution_count": 14,
      "outputs": [
        {
          "output_type": "stream",
          "name": "stdout",
          "text": [
            "1 3\n",
            "0.3333333333333333\n"
          ]
        }
      ]
    },
    {
      "cell_type": "code",
      "source": [
        "A,B = input().split()\n",
        "print(int(A)+int(B))\n",
        "print(int(A)-int(B))\n",
        "print(int(A)*int(B))\n",
        "print(int(A)/int(B))\n",
        "print(int(A)%int(B))"
      ],
      "metadata": {
        "colab": {
          "base_uri": "https://localhost:8080/"
        },
        "id": "MyqCDlgSvXqY",
        "outputId": "dc573c3b-6922-4f90-a034-ed4287531bb0"
      },
      "execution_count": 15,
      "outputs": [
        {
          "output_type": "stream",
          "name": "stdout",
          "text": [
            "7 3\n",
            "10\n",
            "4\n",
            "21\n",
            "2.3333333333333335\n",
            "1\n"
          ]
        }
      ]
    },
    {
      "cell_type": "code",
      "source": [
        "print(input() + \"??!\")"
      ],
      "metadata": {
        "colab": {
          "base_uri": "https://localhost:8080/"
        },
        "id": "0yL7ih-fvm8N",
        "outputId": "0e35d591-64fe-454c-dec5-dd89030fea3d"
      },
      "execution_count": 18,
      "outputs": [
        {
          "output_type": "stream",
          "name": "stdout",
          "text": [
            "joonas\n",
            "joonas??!\n"
          ]
        }
      ]
    },
    {
      "cell_type": "code",
      "source": [
        "print(int(input()) - 543)"
      ],
      "metadata": {
        "colab": {
          "base_uri": "https://localhost:8080/"
        },
        "id": "LeksOJ_GwSxf",
        "outputId": "d949c8c9-c799-4c5d-898e-3d3ee91c6c3f"
      },
      "execution_count": 20,
      "outputs": [
        {
          "output_type": "stream",
          "name": "stdout",
          "text": [
            "2541\n",
            "1998\n"
          ]
        }
      ]
    },
    {
      "cell_type": "code",
      "source": [
        "a, b, c = input().split()\n",
        "a = int(a)\n",
        "b = int(b)\n",
        "c = int(c)\n",
        "\n",
        "print((a+b)%c)\n",
        "print(((a%c)+(b%c))%c)\n",
        "print((a*b)%c)\n",
        "print(((a%c)*(b%c))%c)"
      ],
      "metadata": {
        "colab": {
          "base_uri": "https://localhost:8080/"
        },
        "id": "aUOx5pYSwzCx",
        "outputId": "1ee29d87-5455-4272-912e-992e19ae7799"
      },
      "execution_count": 24,
      "outputs": [
        {
          "output_type": "stream",
          "name": "stdout",
          "text": [
            "5 8 4\n",
            "1\n",
            "1\n",
            "0\n",
            "0\n"
          ]
        }
      ]
    },
    {
      "cell_type": "code",
      "source": [
        "num1,num2 = map(int,input().split())\n",
        "\n",
        "print(num1 * (num2%10))\n",
        "print(num1 * ((num2%100)//10))\n",
        "print(num1 * (num2//100))\n",
        "print(num1 * num2)"
      ],
      "metadata": {
        "colab": {
          "base_uri": "https://localhost:8080/"
        },
        "id": "JguKCjhQxVAU",
        "outputId": "2bc8224b-ce97-48aa-a20c-fddc859e5b03"
      },
      "execution_count": 30,
      "outputs": [
        {
          "output_type": "stream",
          "name": "stdout",
          "text": [
            "472 386\n",
            "2832\n",
            "3776\n",
            "1416\n",
            "182192\n"
          ]
        }
      ]
    },
    {
      "cell_type": "markdown",
      "source": [
        "조건문"
      ],
      "metadata": {
        "id": "8zZqN9N0xzyx"
      }
    },
    {
      "cell_type": "code",
      "source": [
        "A,B = map(int,input().split())\n",
        "\n",
        "if A > B:\n",
        "    print('>')\n",
        "elif A < B:\n",
        "    print('<')\n",
        "else:\n",
        "    print('==')\n"
      ],
      "metadata": {
        "colab": {
          "base_uri": "https://localhost:8080/"
        },
        "id": "nOFcoFUFx7Ho",
        "outputId": "bd2f9527-cd8e-47e2-9c5f-1dff3edd374d"
      },
      "execution_count": 28,
      "outputs": [
        {
          "output_type": "stream",
          "name": "stdout",
          "text": [
            "1 2\n",
            "<\n"
          ]
        }
      ]
    },
    {
      "cell_type": "code",
      "source": [
        "score = int(input())\n",
        "\n",
        "if score >= 90 :\n",
        "    print('A')\n",
        "elif score >= 80 :\n",
        "    print('B')\n",
        "elif score >= 70 :\n",
        "    print('C')\n",
        "elif score >= 60 :\n",
        "    print('D')\n",
        "else:\n",
        "    print('F')"
      ],
      "metadata": {
        "colab": {
          "base_uri": "https://localhost:8080/"
        },
        "id": "m7sMJPBR0J8P",
        "outputId": "9fcb613c-d771-47cd-af55-92561157fdd7"
      },
      "execution_count": 31,
      "outputs": [
        {
          "output_type": "stream",
          "name": "stdout",
          "text": [
            "100\n",
            "A\n"
          ]
        }
      ]
    },
    {
      "cell_type": "code",
      "source": [
        "a = int(input())\n",
        "if (a % 4 == 0 and a % 100 != 0) or a % 400 == 0:\n",
        "    print(1)\n",
        "else:\n",
        "    print(0)"
      ],
      "metadata": {
        "colab": {
          "base_uri": "https://localhost:8080/"
        },
        "id": "mMDjxT2k0VVd",
        "outputId": "bbbe8836-9133-4043-99f3-1a275a783690"
      },
      "execution_count": 32,
      "outputs": [
        {
          "output_type": "stream",
          "name": "stdout",
          "text": [
            "2000\n",
            "1\n"
          ]
        }
      ]
    },
    {
      "cell_type": "code",
      "source": [
        "x= int(input())\n",
        "y= int(input())\n",
        "\n",
        "if x > 0 and y > 0 :\tprint('1')\n",
        "elif x < 0 and y > 0 : print('2')\n",
        "elif x < 0 and y < 0 : print('3')\n",
        "else: print('4')"
      ],
      "metadata": {
        "colab": {
          "base_uri": "https://localhost:8080/"
        },
        "id": "Sa-snPIb0fEY",
        "outputId": "68f56f6b-63ee-408f-e111-d27a50b843bf"
      },
      "execution_count": 33,
      "outputs": [
        {
          "output_type": "stream",
          "name": "stdout",
          "text": [
            "12\n",
            "5\n",
            "1\n"
          ]
        }
      ]
    },
    {
      "cell_type": "code",
      "source": [
        "H, M = map(int, input().split())\n",
        "\n",
        "if M < 45 :\t\n",
        "    if H == 0 :\t\n",
        "        H = 23\n",
        "        M += 60\n",
        "    else :\t\n",
        "        H -= 1\t\n",
        "        M += 60\n",
        "        \n",
        "print(H, M-45)\t"
      ],
      "metadata": {
        "colab": {
          "base_uri": "https://localhost:8080/"
        },
        "id": "S1DmqpeS0zZG",
        "outputId": "46fdabeb-1f28-4c8d-8300-71a74b555a8b"
      },
      "execution_count": 34,
      "outputs": [
        {
          "output_type": "stream",
          "name": "stdout",
          "text": [
            "10 10\n",
            "9 25\n"
          ]
        }
      ]
    },
    {
      "cell_type": "code",
      "source": [
        "A, B = map(int,input().split())\n",
        "C = int(input())\n",
        "A += C // 60\n",
        "B += C % 60\n",
        "\n",
        "if B >= 60 :\n",
        "    A+=1\n",
        "    B-=60\n",
        "\n",
        "if A >= 24 :\n",
        "    A-=24\n",
        "\n",
        "print(A,B)"
      ],
      "metadata": {
        "colab": {
          "base_uri": "https://localhost:8080/"
        },
        "id": "P7juXaJS1Fuk",
        "outputId": "bbefaea0-4a86-4b22-d311-75eb3a21f7fe"
      },
      "execution_count": 36,
      "outputs": [
        {
          "output_type": "stream",
          "name": "stdout",
          "text": [
            "14 30\n",
            "20\n",
            "14 50\n"
          ]
        }
      ]
    },
    {
      "cell_type": "code",
      "source": [
        "a, b, c = map(int, input().split())\n",
        "\n",
        "if a == b == c:\n",
        "    print(10000+a*1000)\n",
        "elif a == b:\n",
        "    print(1000+a*100)\n",
        "elif a == c:\n",
        "    print(1000+a*100)\n",
        "elif b == c:\n",
        "    print(1000+b*100)\n",
        "else:\n",
        "    print(100 * max(a,b,c))"
      ],
      "metadata": {
        "colab": {
          "base_uri": "https://localhost:8080/"
        },
        "id": "qU4ZggNB1l1b",
        "outputId": "40eec90a-ef66-4b2a-dfea-135a90821cef"
      },
      "execution_count": 37,
      "outputs": [
        {
          "output_type": "stream",
          "name": "stdout",
          "text": [
            "3 3 6\n",
            "1300\n"
          ]
        }
      ]
    }
  ]
}