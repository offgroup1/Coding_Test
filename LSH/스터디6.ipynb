{
  "nbformat": 4,
  "nbformat_minor": 0,
  "metadata": {
    "colab": {
      "name": "스터디6.ipynb",
      "provenance": []
    },
    "kernelspec": {
      "name": "python3",
      "display_name": "Python 3"
    },
    "language_info": {
      "name": "python"
    }
  },
  "cells": [
    {
      "cell_type": "markdown",
      "source": [
        "####징검다리"
      ],
      "metadata": {
        "id": "oFha4WT8ywzK"
      }
    },
    {
      "cell_type": "code",
      "execution_count": null,
      "metadata": {
        "id": "0QfKBGuuyUjg"
      },
      "outputs": [],
      "source": [
        "def solution(distance, rocks, n):\n",
        "    answer = 0\n",
        "    start = 0 #시작점\n",
        "    end = distance #끝점\n",
        "    rocks.sort()\n",
        "    \n",
        "    while start <= end:\n",
        "        mid = (start+end)//2 #바위 사이의 최대 거리가 mid 라고 가정하고 시작 -> 사이거리를 최대로 하는 것이 목표\n",
        "        del_num = 0\n",
        "        current = 0\n",
        "        min_dist = 1000000000\n",
        "        for r in rocks:\n",
        "            if r-current < mid: # 해서 최대 거리를 mid 로 만들어주기 위해 start와 mid 사이에 있는 돌 다 삭제\n",
        "                del_num += 1\n",
        "            else: #mid 보다 start 에서 더 멀리 있는 돌이 있으면 \n",
        "                min_dist = min(min_dist, r-current) # 거기부터 남아있는 돌 사이의 거리의 최소값을 계산\n",
        "                current = r  #남아있는 모든 돌에 대해서\n",
        "                \n",
        "            if del_num > n: # 삭제할 돌 갯수보다 많으면 중단\n",
        "                break\n",
        "        if del_num > n: #더 많이 삭제 했으면\n",
        "            end = mid -1 #기준 조정\n",
        "        else:\n",
        "            answer = min_dist \n",
        "            start = mid +1\n",
        "                   \n",
        "    return answer"
      ]
    },
    {
      "cell_type": "markdown",
      "source": [
        "####입국심사"
      ],
      "metadata": {
        "id": "ohVWz7gzy1U7"
      }
    },
    {
      "cell_type": "code",
      "source": [
        "def solution(n, times):\n",
        "    answer = 0\n",
        "    start = 1 #최소시간\n",
        "    end = n*max(times) #최대 시간\n",
        "    while start <= end:\n",
        "        people = 0\n",
        "        mid = (start + end)//2 #기준시간\n",
        "        for t in times:\n",
        "            people += mid // t #기준시간동안 검사 할 수 있는 사람 수\n",
        "        if people >= n: #여유가 남으면\n",
        "            answer = mid #일단 저장해 놓고\n",
        "            end = mid-1 #조정해서 다시 탐색\n",
        "        else:\n",
        "            start = mid +1 #여유가 없으면 범위 늘리기\n",
        "    return answer"
      ],
      "metadata": {
        "id": "iGEOPwJry54a"
      },
      "execution_count": null,
      "outputs": []
    }
  ]
}