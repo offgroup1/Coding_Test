{
  "nbformat": 4,
  "nbformat_minor": 0,
  "metadata": {
    "colab": {
      "name": "스터디5.ipynb",
      "provenance": []
    },
    "kernelspec": {
      "name": "python3",
      "display_name": "Python 3"
    },
    "language_info": {
      "name": "python"
    }
  },
  "cells": [
    {
      "cell_type": "markdown",
      "source": [
        "###순차 탐색"
      ],
      "metadata": {
        "id": "H5OMmgMEQomZ"
      }
    },
    {
      "cell_type": "code",
      "execution_count": 4,
      "metadata": {
        "colab": {
          "base_uri": "https://localhost:8080/"
        },
        "id": "KOzKPA2HLPdk",
        "outputId": "06afe838-49e8-455d-96b0-ca1061975b6b"
      },
      "outputs": [
        {
          "output_type": "stream",
          "name": "stdout",
          "text": [
            "이름을 입력해 주세요:suhyun chulmin sanggyum hyunseok\n",
            "찾을 이름을 입력해 주세요\n",
            "sanggyum\n",
            "suhyun\n",
            "chulmin\n"
          ]
        }
      ],
      "source": [
        "n = input(\"이름을 입력해 주세요:\")\n",
        "name_list = n.split()\n",
        "print(\"찾을 이름을 입력해 주세요\")\n",
        "target = input()\n",
        "for name in name_list:\n",
        "  if name == target:\n",
        "    break\n",
        "  else:\n",
        "    print(name)"
      ]
    },
    {
      "cell_type": "markdown",
      "source": [
        "###이진 탐색"
      ],
      "metadata": {
        "id": "u3yV2NixQvd-"
      }
    },
    {
      "cell_type": "code",
      "source": [
        "def solution(L, x):\n",
        "    start = 0\n",
        "    finish = len(L)-1\n",
        "    while start <= finish:\n",
        "        mid = (start+finish)//2 \n",
        "        if x < L[mid]:\n",
        "            finish = mid-1   \n",
        "        elif x > L[mid]:\n",
        "            start = mid +1\n",
        "        else:\n",
        "            return mid\n",
        "            break\n",
        "            \n",
        "    return -1\n",
        "L = list(map(int,input().split()))\n",
        "x = int(input())\n",
        "result = solution(L,x)\n",
        "if result == None:\n",
        "  print('원소가 존재하지 않습니다')\n",
        "else:\n",
        "  print(L.index(x))"
      ],
      "metadata": {
        "colab": {
          "base_uri": "https://localhost:8080/"
        },
        "id": "IBQ3EYxCOEvm",
        "outputId": "5fbbd1fd-1129-454d-9634-6119a652a878"
      },
      "execution_count": 6,
      "outputs": [
        {
          "output_type": "stream",
          "name": "stdout",
          "text": [
            "1 3 5 7 9 11 13 15 17 19\n",
            "9\n",
            "4\n"
          ]
        }
      ]
    },
    {
      "cell_type": "markdown",
      "source": [
        "###부품 찾기"
      ],
      "metadata": {
        "id": "q-KdF121Qz3t"
      }
    },
    {
      "cell_type": "code",
      "source": [
        "def solution(L, x):\n",
        "    start = 0\n",
        "    finish = len(L)-1\n",
        "    while start <= finish:\n",
        "        mid = (start+finish)//2 \n",
        "        if x < L[mid]:\n",
        "            finish = mid-1   \n",
        "        elif x > L[mid]:\n",
        "            start = mid +1\n",
        "        else:\n",
        "            return mid\n",
        "            break        \n",
        "    return -1\n",
        "\n",
        "L = list(map(int,input().split()))\n",
        "print('찾고 싶은 부품 번호:')\n",
        "num = list(map(int, input().split()))\n",
        "\n",
        "for x in num:\n",
        "  check = solution(L,x)\n",
        "  if check == -1:\n",
        "    print('NO',end=' ')\n",
        "  else:\n",
        "    print('YES',end=' ')"
      ],
      "metadata": {
        "colab": {
          "base_uri": "https://localhost:8080/"
        },
        "id": "3Ab5o8IEQfTG",
        "outputId": "4495a393-a37d-4236-a8c0-b398c4c2f17a"
      },
      "execution_count": 9,
      "outputs": [
        {
          "output_type": "stream",
          "name": "stdout",
          "text": [
            "8 3 7 9 2\n",
            "찾고 싶은 부품 번호:\n",
            "5 7 9\n",
            "NO YES YES "
          ]
        }
      ]
    },
    {
      "cell_type": "markdown",
      "source": [
        "###떡볶이 떡 만들기"
      ],
      "metadata": {
        "id": "85JfuD0IYQOj"
      }
    },
    {
      "cell_type": "code",
      "source": [
        "array = list(map(int,input().split()))\n",
        "tteok = int(input())\n",
        "\n",
        "start = 0 \n",
        "end = max(array)\n",
        "result = 0\n",
        "\n",
        "while (start <= end):\n",
        "  mid = (start + end) //2\n",
        "  total = 0\n",
        "  for num in array:\n",
        "    if num > mid:\n",
        "      total += num - mid\n",
        "  if total < tteok:\n",
        "    end = mid -1\n",
        "  else:\n",
        "    result = mid\n",
        "    start = mid + 1\n",
        "print(result)"
      ],
      "metadata": {
        "colab": {
          "base_uri": "https://localhost:8080/"
        },
        "id": "gAj9gvWWYNcv",
        "outputId": "6ac32f81-a2da-4cc0-d291-5f941557baa4"
      },
      "execution_count": 11,
      "outputs": [
        {
          "output_type": "stream",
          "name": "stdout",
          "text": [
            "19 15 10 17\n",
            "6\n",
            "15\n"
          ]
        }
      ]
    }
  ]
}