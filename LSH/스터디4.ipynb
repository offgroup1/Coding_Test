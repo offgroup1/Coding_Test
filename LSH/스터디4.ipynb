{
  "nbformat": 4,
  "nbformat_minor": 0,
  "metadata": {
    "colab": {
      "name": "스터디3.ipynb",
      "provenance": []
    },
    "kernelspec": {
      "name": "python3",
      "display_name": "Python 3"
    },
    "language_info": {
      "name": "python"
    }
  },
  "cells": [
    {
      "cell_type": "markdown",
      "source": [
        "####모의고사"
      ],
      "metadata": {
        "id": "VhcaqAhytT58"
      }
    },
    {
      "cell_type": "code",
      "execution_count": null,
      "metadata": {
        "id": "6iLGdAZQtRMP"
      },
      "outputs": [],
      "source": [
        "def solution(answers):\n",
        "    answer = [0]*3\n",
        "    pattern = [[1,2,3,4,5],[2,1,2,3,2,4,2,5],[3,3,1,1,2,2,4,4,5,5]]\n",
        "    \n",
        "    for i in range(len(answers)):\n",
        "        for idx,p in enumerate(pattern):\n",
        "            if answers[i] == p[i % len(p)]:\n",
        "                answer[idx] += 1\n",
        "    return [i + 1 for i, v in enumerate(answer) if v == max(answer)]\n",
        "    \n",
        "        \n",
        "    "
      ]
    },
    {
      "cell_type": "markdown",
      "source": [
        "####H-Index"
      ],
      "metadata": {
        "id": "Ci6cogJNtYwM"
      }
    },
    {
      "cell_type": "code",
      "source": [
        "#테스트 케이스 1개 통과 ---> 왜??////?/////\n",
        "def solution(citations):\n",
        "    citations = sorted(citations,reverse=True)\n",
        "    median = len(citations)//2\n",
        "    answer = citations[median]\n",
        "    return answer"
      ],
      "metadata": {
        "id": "XznD5fG3tjgf"
      },
      "execution_count": null,
      "outputs": []
    }
  ]
}