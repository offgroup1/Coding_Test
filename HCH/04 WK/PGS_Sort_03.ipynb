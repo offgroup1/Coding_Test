{
 "cells": [
  {
   "cell_type": "code",
   "execution_count": 40,
   "id": "871f36d1",
   "metadata": {
    "ExecuteTime": {
     "end_time": "2022-05-24T02:30:40.528346Z",
     "start_time": "2022-05-24T02:30:40.522480Z"
    }
   },
   "outputs": [
    {
     "data": {
      "text/plain": [
       "2"
      ]
     },
     "execution_count": 40,
     "metadata": {},
     "output_type": "execute_result"
    }
   ],
   "source": [
    "def solution(citations):\n",
    "    answer = []\n",
    "    for i in sorted(citations):        \n",
    "        if i <= len(list(filter(lambda x : x >= i , citations))) :\n",
    "            answer.append(i)\n",
    "        else :\n",
    "            pass\n",
    "    return max(answer)\n",
    "\n",
    "\n",
    "solution([0,0,1,3,2,2,2,3])"
   ]
  },
  {
   "cell_type": "code",
   "execution_count": 7,
   "id": "40a0c414",
   "metadata": {
    "ExecuteTime": {
     "end_time": "2022-05-24T01:55:41.921826Z",
     "start_time": "2022-05-24T01:55:41.916902Z"
    }
   },
   "outputs": [
    {
     "data": {
      "text/plain": [
       "[2, 4, 2, 7]"
      ]
     },
     "execution_count": 7,
     "metadata": {},
     "output_type": "execute_result"
    }
   ],
   "source": [
    "solution = [2,4,1,2,7]\n",
    "i = 2\n",
    "y = []\n",
    "\n",
    "for x in solution :\n",
    "    if x >= i :\n",
    "        y.append(x)\n",
    "    else :\n",
    "        pass\n",
    "y"
   ]
  },
  {
   "cell_type": "code",
   "execution_count": 20,
   "id": "49ff0b81",
   "metadata": {
    "ExecuteTime": {
     "end_time": "2022-05-24T02:10:03.367265Z",
     "start_time": "2022-05-24T02:10:03.362232Z"
    }
   },
   "outputs": [
    {
     "data": {
      "text/plain": [
       "[7]"
      ]
     },
     "execution_count": 20,
     "metadata": {},
     "output_type": "execute_result"
    }
   ],
   "source": [
    "solution = [2,4,1,2,7]\n",
    "i = 2\n",
    "y = []\n",
    "\n",
    "for i in solution :\n",
    "    y = list(filter(lambda x : x >= i , solution))\n",
    "\n",
    "y"
   ]
  },
  {
   "cell_type": "code",
   "execution_count": null,
   "id": "57292754",
   "metadata": {},
   "outputs": [],
   "source": []
  }
 ],
 "metadata": {
  "kernelspec": {
   "display_name": "han",
   "language": "python",
   "name": "han"
  },
  "language_info": {
   "codemirror_mode": {
    "name": "ipython",
    "version": 3
   },
   "file_extension": ".py",
   "mimetype": "text/x-python",
   "name": "python",
   "nbconvert_exporter": "python",
   "pygments_lexer": "ipython3",
   "version": "3.8.13"
  },
  "toc": {
   "base_numbering": 1,
   "nav_menu": {},
   "number_sections": true,
   "sideBar": true,
   "skip_h1_title": false,
   "title_cell": "Table of Contents",
   "title_sidebar": "Contents",
   "toc_cell": false,
   "toc_position": {},
   "toc_section_display": true,
   "toc_window_display": false
  }
 },
 "nbformat": 4,
 "nbformat_minor": 5
}
