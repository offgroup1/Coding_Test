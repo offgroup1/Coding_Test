{
 "cells": [
  {
   "cell_type": "code",
   "execution_count": null,
   "metadata": {},
   "outputs": [],
   "source": [
    "def solution(array, commands):\n",
    "    answer = []\n",
    "\n",
    "    for a in commands:\n",
    "        for i in a :\n",
    "            array = array[i[0]-1 : i[1]]\n",
    "        \n",
    "        array = sorted(array)\n",
    "\n",
    "        for i in a :\n",
    "            answer.append(array[i[2]-1])\n",
    "\n",
    "    return answer\n",
    "\n",
    "\n",
    "\n",
    "\n",
    "solution([1,5,2,6,3,7,4], [[2, 5, 3],[4, 4, 1]])\n"
   ]
  },
  {
   "cell_type": "code",
   "execution_count": 22,
   "metadata": {},
   "outputs": [
    {
     "data": {
      "text/plain": [
       "[6]"
      ]
     },
     "execution_count": 22,
     "metadata": {},
     "output_type": "execute_result"
    }
   ],
   "source": [
    "def solution(array, commands):\n",
    "    \n",
    "    answer = []\n",
    "\n",
    "\n",
    "    for i in commands :\n",
    "        array = array[i[0]-1 : i[1]]\n",
    "        \n",
    "    array = sorted(array)\n",
    "\n",
    "    for i in commands :\n",
    "        answer.append(array[i[2]-1])\n",
    "\n",
    "    return answer\n",
    "\n",
    "\n",
    "\n",
    "solution([1,5,2,6,3,7,4], [[4, 4, 1]])"
   ]
  },
  {
   "cell_type": "code",
   "execution_count": 35,
   "metadata": {},
   "outputs": [
    {
     "data": {
      "text/plain": [
       "[5, 5]"
      ]
     },
     "execution_count": 35,
     "metadata": {},
     "output_type": "execute_result"
    }
   ],
   "source": [
    "def solution(array, commands):\n",
    "    \n",
    "    answer = []\n",
    "\n",
    "    for a in commands :\n",
    "        nums = []\n",
    "        nums.append(a)\n",
    "\n",
    "        for i in nums :\n",
    "            array = array[i[0]-1 : i[1]]\n",
    "            \n",
    "        array = sorted(array)\n",
    "\n",
    "        for i in nums :\n",
    "            answer.append(array[i[2]-1])\n",
    "\n",
    "    return answer\n",
    "\n",
    "\n",
    "\n",
    "solution([1,5,2,6,3,7,4], [[2, 5, 3], [1,7,3]])"
   ]
  },
  {
   "cell_type": "code",
   "execution_count": 43,
   "metadata": {},
   "outputs": [
    {
     "data": {
      "text/plain": [
       "[5, 6, 3]"
      ]
     },
     "execution_count": 43,
     "metadata": {},
     "output_type": "execute_result"
    }
   ],
   "source": [
    "def solution(array, commands):\n",
    "    \n",
    "    answer = []\n",
    "\n",
    "    for a in commands :\n",
    "        nums = []\n",
    "        nums.append(a)\n",
    "\n",
    "        for i in nums :\n",
    "            array2 = array[i[0]-1 : i[1]]\n",
    "            \n",
    "        array2 = sorted(array2)\n",
    "\n",
    "        for i in nums :\n",
    "            answer.append(array2[i[2]-1])\n",
    "\n",
    "    return answer\n",
    "\n",
    "\n",
    "\n",
    "solution([1,5,2,6,3,7,4], [[2, 5, 3],[4,4,1],[1,7,3]])"
   ]
  },
  {
   "cell_type": "code",
   "execution_count": null,
   "metadata": {},
   "outputs": [],
   "source": [
    "def solution(array, commands):\n",
    "    \n",
    "    answer = []\n",
    "\n",
    "    for a in commands :\n",
    "        nums = []\n",
    "        nums.append(a)\n",
    "\n",
    "        for i in nums :\n",
    "            array2 = array[i[0]-1 : i[1]]\n",
    "            \n",
    "        array2 = sorted(array2)\n",
    "\n",
    "        for i in nums :\n",
    "            answer.append(array2[i[2]-1])\n",
    "\n",
    "    return answer\n",
    "\n",
    "solution([1,5,2,6,3,7,4], [[2, 5, 3],[4,4,1],[1,7,3]])"
   ]
  },
  {
   "cell_type": "code",
   "execution_count": 48,
   "metadata": {},
   "outputs": [
    {
     "data": {
      "text/plain": [
       "[5, 6, 3]"
      ]
     },
     "execution_count": 48,
     "metadata": {},
     "output_type": "execute_result"
    }
   ],
   "source": [
    "def solution(array, commands):\n",
    "    \n",
    "    answer = []\n",
    "\n",
    "    for a in commands :\n",
    "        nums = []\n",
    "        nums.append(a)\n",
    "\n",
    "        for i in nums :\n",
    "            array2 = sorted(array[i[0]-1 : i[1]])\n",
    "            answer.append(array2[i[2]-1])\n",
    "\n",
    "    return answer\n",
    "\n",
    "solution([1,5,2,6,3,7,4], [[2, 5, 3],[4,4,1],[1,7,3]])"
   ]
  },
  {
   "cell_type": "code",
   "execution_count": 49,
   "metadata": {},
   "outputs": [
    {
     "data": {
      "text/plain": [
       "[5, 6, 3]"
      ]
     },
     "execution_count": 49,
     "metadata": {},
     "output_type": "execute_result"
    }
   ],
   "source": [
    "def solution(array, commands):\n",
    "    \n",
    "    answer = []\n",
    "\n",
    "    for a in commands :\n",
    "        array2 = sorted(array[a[0]-1 : a[1]])\n",
    "        answer.append(array2[a[2]-1])\n",
    "\n",
    "    return answer\n",
    "\n",
    "solution([1,5,2,6,3,7,4], [[2, 5, 3],[4,4,1],[1,7,3]])"
   ]
  },
  {
   "cell_type": "code",
   "execution_count": null,
   "metadata": {},
   "outputs": [],
   "source": []
  }
 ],
 "metadata": {
  "interpreter": {
   "hash": "b7c5d5166551f9ad37f00fa6f702b80a55a81e6971588238ce85ebef30d55376"
  },
  "kernelspec": {
   "display_name": "Python 3.8.13 ('han')",
   "language": "python",
   "name": "python3"
  },
  "language_info": {
   "codemirror_mode": {
    "name": "ipython",
    "version": 3
   },
   "file_extension": ".py",
   "mimetype": "text/x-python",
   "name": "python",
   "nbconvert_exporter": "python",
   "pygments_lexer": "ipython3",
   "version": "3.8.13"
  },
  "orig_nbformat": 4
 },
 "nbformat": 4,
 "nbformat_minor": 2
}
