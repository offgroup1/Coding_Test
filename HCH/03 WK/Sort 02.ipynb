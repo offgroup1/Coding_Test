{
 "cells": [
  {
   "cell_type": "code",
   "execution_count": 22,
   "metadata": {},
   "outputs": [
    {
     "name": "stdout",
     "output_type": "stream",
     "text": [
      "이순신 홍길동\n"
     ]
    }
   ],
   "source": [
    "N = input()\n",
    "N = int(N)\n",
    "\n",
    "names = []\n",
    "score = []\n",
    "\n",
    "for i in range(N) :\n",
    "    a,b = input().split()\n",
    "    names.append(a)\n",
    "    score.append(b)\n",
    "\n",
    "data = dict(zip(names, score))\n",
    "sorted_data = sorted(data.items(), key = lambda item: item[1], reverse = False)\n",
    "\n",
    "final = []\n",
    "\n",
    "for i in sorted_data :\n",
    "    final.append(i[0])\n",
    "\n",
    "print(*final, sep = ' ')\n",
    "\n",
    "    \n",
    "\n"
   ]
  },
  {
   "cell_type": "code",
   "execution_count": null,
   "metadata": {},
   "outputs": [],
   "source": []
  },
  {
   "cell_type": "code",
   "execution_count": null,
   "metadata": {},
   "outputs": [],
   "source": []
  }
 ],
 "metadata": {
  "kernelspec": {
   "display_name": "han",
   "language": "python",
   "name": "han"
  },
  "language_info": {
   "codemirror_mode": {
    "name": "ipython",
    "version": 3
   },
   "file_extension": ".py",
   "mimetype": "text/x-python",
   "name": "python",
   "nbconvert_exporter": "python",
   "pygments_lexer": "ipython3",
   "version": "3.8.13"
  },
  "orig_nbformat": 4
 },
 "nbformat": 4,
 "nbformat_minor": 2
}
