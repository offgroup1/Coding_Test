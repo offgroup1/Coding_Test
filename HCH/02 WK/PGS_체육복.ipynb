{
 "cells": [
  {
   "cell_type": "code",
   "execution_count": null,
   "metadata": {},
   "outputs": [],
   "source": [
    "def solution(n, lost, reserve):\n",
    "    total = []\n",
    "    for i in range(n):\n",
    "        total = set(total.append(i))\n",
    "    answer = 0\n",
    "    return answer\n",
    "\n",
    "\n",
    "solution(5, [2,4], [1,3,5])"
   ]
  },
  {
   "cell_type": "code",
   "execution_count": 6,
   "metadata": {},
   "outputs": [
    {
     "data": {
      "text/plain": [
       "{1, 2, 3, 4, 5}"
      ]
     },
     "execution_count": 6,
     "metadata": {},
     "output_type": "execute_result"
    }
   ],
   "source": [
    "def solution(n):\n",
    "    total = []\n",
    "    for i in range(1, n+1):\n",
    "        total.append(i)\n",
    "    total = set(total)\n",
    "\n",
    "\n",
    "    answer = total\n",
    "    return answer\n",
    "\n",
    "\n",
    "solution(5)"
   ]
  },
  {
   "cell_type": "code",
   "execution_count": 9,
   "metadata": {},
   "outputs": [
    {
     "data": {
      "text/plain": [
       "{3, 4, 5}"
      ]
     },
     "execution_count": 9,
     "metadata": {},
     "output_type": "execute_result"
    }
   ],
   "source": [
    "def solution(n, lost):\n",
    "    total = []\n",
    "    for i in range(1, n+1):\n",
    "        total.append(i)\n",
    "    total = set(total) - set(lost)\n",
    "\n",
    "\n",
    "    answer = total\n",
    "    return answer\n",
    "\n",
    "\n",
    "solution(5, [1,2])"
   ]
  },
  {
   "cell_type": "code",
   "execution_count": 22,
   "metadata": {},
   "outputs": [
    {
     "data": {
      "text/plain": [
       "2"
      ]
     },
     "execution_count": 22,
     "metadata": {},
     "output_type": "execute_result"
    }
   ],
   "source": [
    "def solution(n, lost, reserve):\n",
    "\n",
    "    total = []\n",
    "    for i in range(1, n+1):\n",
    "        total.append(i)\n",
    "    total = set(total) - set(lost)\n",
    "\n",
    "    for i in reserve :\n",
    "        if not i - 1 in total :\n",
    "            if i - 1 <= 0 :\n",
    "                pass\n",
    "            else :\n",
    "                total.add(i - 1)\n",
    "        elif not i + 1 in total :\n",
    "            if i + 1 > n :\n",
    "                pass\n",
    "            else :\n",
    "                total.add(i + 1)\n",
    "    \n",
    "    answer = len(total)\n",
    "    return answer\n",
    "\n",
    "\n",
    "solution(3, [3], [1])"
   ]
  },
  {
   "cell_type": "code",
   "execution_count": 6,
   "metadata": {},
   "outputs": [
    {
     "data": {
      "text/plain": [
       "{2, 4, 5}"
      ]
     },
     "execution_count": 6,
     "metadata": {},
     "output_type": "execute_result"
    }
   ],
   "source": [
    "def solution(n, lost, reserve):\n",
    "\n",
    "    total = []\n",
    "    for i in range(1, n+1):\n",
    "        total.append(i)\n",
    "    total = set(total) - set(lost)\n",
    "\n",
    "    for i in reserve :\n",
    "        if i in set(lost):\n",
    "            pass\n",
    "        elif not i - 1 in total :\n",
    "            if i - 1 <= 0 :\n",
    "                pass\n",
    "            else :\n",
    "                total.add(i - 1)\n",
    "        elif not i + 1 in total :\n",
    "            if i + 1 > n :\n",
    "                pass\n",
    "            else :\n",
    "                total.add(i + 1)\n",
    "    \n",
    "    answer = total\n",
    "    return answer\n",
    "\n",
    "solution(5, [3,1], [1])"
   ]
  },
  {
   "cell_type": "code",
   "execution_count": 30,
   "metadata": {},
   "outputs": [
    {
     "ename": "SyntaxError",
     "evalue": "invalid syntax (1423140911.py, line 12)",
     "output_type": "error",
     "traceback": [
      "\u001b[0;36m  Input \u001b[0;32mIn [30]\u001b[0;36m\u001b[0m\n\u001b[0;31m    else i in set(lost) :\u001b[0m\n\u001b[0m         ^\u001b[0m\n\u001b[0;31mSyntaxError\u001b[0m\u001b[0;31m:\u001b[0m invalid syntax\n"
     ]
    }
   ],
   "source": [
    "def solution(n, lost, reserve):\n",
    "\n",
    "    total = []\n",
    "    for i in range(1, n+1):\n",
    "        total.append(i)\n",
    "    total = set(total) - set(lost) \n",
    "\n",
    "    for i in reserve :\n",
    "        if i in set(lost) :\n",
    "            total.add(i)\n",
    "            reserve = reserve.remove(i)\n",
    "        else :\n",
    "            pass\n",
    "    \n",
    "    for i in reserve :\n",
    "        if not i - 1 in total :\n",
    "            if i - 1 <= 0 :\n",
    "                pass\n",
    "            else :\n",
    "                total.add(i - 1)\n",
    "        elif not i + 1 in total :\n",
    "            if i + 1 > n :\n",
    "                pass\n",
    "            else :\n",
    "                total.add(i + 1) \n",
    "\n",
    "\n",
    "    \n",
    "    answer = total\n",
    "    return answer\n",
    "\n",
    "solution(5, [1,2,4], [2,3])"
   ]
  },
  {
   "cell_type": "code",
   "execution_count": 34,
   "metadata": {},
   "outputs": [
    {
     "data": {
      "text/plain": [
       "{3, 5}"
      ]
     },
     "execution_count": 34,
     "metadata": {},
     "output_type": "execute_result"
    }
   ],
   "source": [
    "def solution(n, lost, reserve):\n",
    "\n",
    "    total = []\n",
    "    for i in range(1, n+1):\n",
    "        total.append(i)\n",
    "    total = set(total) - set(lost) \n",
    "\n",
    "    reserve = set(reserve) - (set(reserve) & set(lost))\n",
    "    \n",
    "    for i in reserve :\n",
    "        if not i - 1 in total :\n",
    "            if i - 1 <= 0 :\n",
    "                pass\n",
    "            else :\n",
    "                total.add(i - 1)\n",
    "        elif not i + 1 in total :\n",
    "            if i + 1 > n :\n",
    "                pass\n",
    "            else :\n",
    "                total.add(i + 1) \n",
    "\n",
    "\n",
    "    \n",
    "    answer = total\n",
    "    return answer\n",
    "\n",
    "solution(5, [1,2,4], [1])"
   ]
  },
  {
   "cell_type": "code",
   "execution_count": 54,
   "metadata": {},
   "outputs": [
    {
     "data": {
      "text/plain": [
       "{1, 3, 4, 5}"
      ]
     },
     "execution_count": 54,
     "metadata": {},
     "output_type": "execute_result"
    }
   ],
   "source": [
    "def solution(n, lost, reserve):\n",
    "\n",
    "    total = []\n",
    "    for i in range(1, n+1):\n",
    "        total.append(i)\n",
    "    total = set(total) - set(lost)\n",
    "\n",
    "    for i in reserve :\n",
    "        if i in lost:\n",
    "            total.add(i)\n",
    "        else:    \n",
    "            if not i - 1 in total :\n",
    "                if i - 1 <= 0 :\n",
    "                    pass\n",
    "                else :\n",
    "                    total.add(i - 1)\n",
    "            elif not i + 1 in total :\n",
    "                if i + 1 > n :\n",
    "                    pass\n",
    "                else :\n",
    "                    total.add(i + 1) \n",
    "    \n",
    "    answer = total\n",
    "    return answer\n",
    "\n",
    "solution(5, [1,2], [1])"
   ]
  },
  {
   "cell_type": "code",
   "execution_count": 64,
   "metadata": {},
   "outputs": [
    {
     "data": {
      "text/plain": [
       "5"
      ]
     },
     "execution_count": 64,
     "metadata": {},
     "output_type": "execute_result"
    }
   ],
   "source": [
    "def solution(n, lost, reserve):\n",
    "\n",
    "    total = []\n",
    "    for i in range(1, n+1):\n",
    "        total.append(i)\n",
    "    total = set(total) - set(lost)\n",
    "\n",
    "    for i in reserve :\n",
    "        if i in lost:\n",
    "            total.add(i)\n",
    "        else:    \n",
    "            if not i - 1 in total :\n",
    "                if i - 1 <= 0 :\n",
    "                    pass\n",
    "                else :\n",
    "                    total.add(i - 1)\n",
    "            elif not i + 1 in total :\n",
    "                if i + 1 > n :\n",
    "                    pass\n",
    "                else :\n",
    "                    total.add(i + 1) \n",
    "    \n",
    "    answer = len(total)\n",
    "    return answer\n",
    "\n",
    "solution(5, [2,4], [1,3,3])"
   ]
  },
  {
   "cell_type": "code",
   "execution_count": 67,
   "metadata": {},
   "outputs": [
    {
     "data": {
      "text/plain": [
       "4"
      ]
     },
     "execution_count": 67,
     "metadata": {},
     "output_type": "execute_result"
    }
   ],
   "source": [
    "def solution(n, lost, reserve):\n",
    "\n",
    "    total = []\n",
    "    for i in range(1, n+1):\n",
    "        total.append(i)\n",
    "    total = set(total) - set(lost)\n",
    "\n",
    "    for i in set(reserve) :\n",
    "        if i in set(lost):\n",
    "            total.add(i)\n",
    "        else:    \n",
    "            if not i - 1 in total :\n",
    "                if i - 1 <= 0 :\n",
    "                    continue\n",
    "                else :\n",
    "                    total.add(i - 1)\n",
    "            elif not i + 1 in total :\n",
    "                if i + 1 > n :\n",
    "                    continue\n",
    "                else :\n",
    "                    total.add(i + 1) \n",
    "    \n",
    "    answer = len(total)\n",
    "    return answer\n",
    "\n",
    "solution(5, [2,4], [1,3])"
   ]
  },
  {
   "cell_type": "code",
   "execution_count": null,
   "metadata": {},
   "outputs": [],
   "source": []
  }
 ],
 "metadata": {
  "interpreter": {
   "hash": "b7c5d5166551f9ad37f00fa6f702b80a55a81e6971588238ce85ebef30d55376"
  },
  "kernelspec": {
   "display_name": "Python 3.8.13 ('han')",
   "language": "python",
   "name": "python3"
  },
  "language_info": {
   "codemirror_mode": {
    "name": "ipython",
    "version": 3
   },
   "file_extension": ".py",
   "mimetype": "text/x-python",
   "name": "python",
   "nbconvert_exporter": "python",
   "pygments_lexer": "ipython3",
   "version": "3.8.13"
  },
  "orig_nbformat": 4
 },
 "nbformat": 4,
 "nbformat_minor": 2
}
