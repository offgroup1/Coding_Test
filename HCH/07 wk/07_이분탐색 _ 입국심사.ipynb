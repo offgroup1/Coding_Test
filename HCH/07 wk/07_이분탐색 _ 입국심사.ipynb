{
 "cells": [
  {
   "cell_type": "code",
   "execution_count": 42,
   "id": "b6834c72",
   "metadata": {
    "ExecuteTime": {
     "end_time": "2022-06-13T07:11:28.693930Z",
     "start_time": "2022-06-13T07:11:28.690532Z"
    }
   },
   "outputs": [],
   "source": [
    "def solution(n, times):\n",
    "    answer = []\n",
    "    for i in range(1,n):\n",
    "        for a in times :\n",
    "            answer.append(i*a)\n",
    "            \n",
    "    return answer\n",
    "\n",
    "# TEST 3개 통과 \n",
    "# 나머지는 시간 초과로 실패"
   ]
  },
  {
   "cell_type": "code",
   "execution_count": 43,
   "id": "56ee8e68",
   "metadata": {
    "ExecuteTime": {
     "end_time": "2022-06-13T07:11:29.179835Z",
     "start_time": "2022-06-13T07:11:29.175565Z"
    }
   },
   "outputs": [
    {
     "data": {
      "text/plain": [
       "[7, 10, 14, 20, 21, 30, 28, 40, 35, 50]"
      ]
     },
     "execution_count": 43,
     "metadata": {},
     "output_type": "execute_result"
    }
   ],
   "source": [
    "solution(6, [7,10])"
   ]
  },
  {
   "cell_type": "code",
   "execution_count": 15,
   "id": "1b29b485",
   "metadata": {
    "ExecuteTime": {
     "end_time": "2022-06-13T05:12:57.150864Z",
     "start_time": "2022-06-13T05:12:57.147839Z"
    }
   },
   "outputs": [],
   "source": [
    "def solution(n, times):\n",
    "    return [i * a for a in times for i in range(1,n)]\n",
    "\n",
    "# TEST 3개 통과 \n",
    "# 나머지는 시간 초과로 실패"
   ]
  },
  {
   "cell_type": "code",
   "execution_count": 16,
   "id": "4e7b888a",
   "metadata": {
    "ExecuteTime": {
     "end_time": "2022-06-13T05:12:57.651599Z",
     "start_time": "2022-06-13T05:12:57.647304Z"
    },
    "scrolled": true
   },
   "outputs": [
    {
     "data": {
      "text/plain": [
       "[7, 14, 21, 28, 35, 10, 20, 30, 40, 50]"
      ]
     },
     "execution_count": 16,
     "metadata": {},
     "output_type": "execute_result"
    }
   ],
   "source": [
    "solution(6, [7,10])"
   ]
  },
  {
   "cell_type": "code",
   "execution_count": 19,
   "id": "7d536e05",
   "metadata": {
    "ExecuteTime": {
     "end_time": "2022-06-13T05:35:26.358389Z",
     "start_time": "2022-06-13T05:35:26.352816Z"
    }
   },
   "outputs": [],
   "source": [
    "def solution(n, times):\n",
    "    a = [i * a for a in times for i in range(1,n)]\n",
    "    start = 0\n",
    "    end = len(a) - 1\n",
    "    \n",
    "    while start < end :\n",
    "        i = start\n",
    "        j = end\n",
    "        mid = a[(i+j) // 2]\n",
    "        \n",
    "        while i < j :\n",
    "            if a[i] >= mid :\n",
    "                a[i], a[j] = a[j], a[i]\n",
    "                j -= 1\n",
    "            else :\n",
    "                i += 1\n",
    "        if a[i] > mid:\n",
    "            i -= 1\n",
    "        \n",
    "        if n <= i :\n",
    "            end = i\n",
    "        else :\n",
    "            start = i + 1\n",
    "    \n",
    "    return a[n]"
   ]
  },
  {
   "cell_type": "code",
   "execution_count": 22,
   "id": "94d9e81b",
   "metadata": {
    "ExecuteTime": {
     "end_time": "2022-06-13T06:00:02.545588Z",
     "start_time": "2022-06-13T06:00:02.541524Z"
    }
   },
   "outputs": [
    {
     "data": {
      "text/plain": [
       "28"
      ]
     },
     "execution_count": 22,
     "metadata": {},
     "output_type": "execute_result"
    }
   ],
   "source": [
    "solution(6, [7,10])"
   ]
  },
  {
   "cell_type": "code",
   "execution_count": null,
   "id": "8a32c964",
   "metadata": {},
   "outputs": [],
   "source": [
    "def solution(n, times):\n",
    "    a = [i * a for a in times for i in range(1,n)]\n",
    "    a.sort()\n",
    "        \n",
    "    return a[n -1]\n"
   ]
  },
  {
   "cell_type": "code",
   "execution_count": 49,
   "id": "2921b873",
   "metadata": {
    "ExecuteTime": {
     "end_time": "2022-06-13T12:07:13.193565Z",
     "start_time": "2022-06-13T12:07:13.189056Z"
    }
   },
   "outputs": [],
   "source": [
    "def solution(n, times):\n",
    "    answer = 0\n",
    "    start = 1\n",
    "    end = n * min(times)\n",
    "    \n",
    "    while start <= end:\n",
    "        people = 0\n",
    "        mid = (start + end)//2 #기준시간\n",
    "        \n",
    "        for t in times:\n",
    "            people += mid // t #기준시간동안 검사 할 수 있는 사람 수\n",
    "            \n",
    "        if people >= n: #여유가 남으면\n",
    "            answer = mid #일단 저장해 놓고\n",
    "            end = mid-1 #조정해서 다시 탐색\n",
    "        else:\n",
    "            start = mid +1 #여유가 없으면 범위 늘리기\n",
    "    return answer\n",
    "    "
   ]
  },
  {
   "cell_type": "code",
   "execution_count": 47,
   "id": "6842f769",
   "metadata": {
    "ExecuteTime": {
     "end_time": "2022-06-13T12:06:50.902336Z",
     "start_time": "2022-06-13T12:06:50.898736Z"
    }
   },
   "outputs": [],
   "source": [
    "def solution(n, times):\n",
    "    answer = []\n",
    "    start = 0\n",
    "    end = n * min(times)\n",
    "    \n",
    "    while start <= end:\n",
    "        people = 0\n",
    "        mid =  (start + end) // 2\n",
    "        \n",
    "        if n == end:\n",
    "            mid = end\n",
    "        \n",
    "        for i in range(1 , n):\n",
    "            for a in times :\n",
    "                answer.append(i*a)\n",
    "\n",
    "            \n",
    "    return mid"
   ]
  },
  {
   "cell_type": "code",
   "execution_count": 50,
   "id": "21c47dba",
   "metadata": {
    "ExecuteTime": {
     "end_time": "2022-06-13T12:07:14.881097Z",
     "start_time": "2022-06-13T12:07:14.876931Z"
    }
   },
   "outputs": [
    {
     "data": {
      "text/plain": [
       "28"
      ]
     },
     "execution_count": 50,
     "metadata": {},
     "output_type": "execute_result"
    }
   ],
   "source": [
    "solution(6, [7,10])"
   ]
  },
  {
   "cell_type": "code",
   "execution_count": 1,
   "id": "cf4fe21a",
   "metadata": {
    "ExecuteTime": {
     "end_time": "2022-06-14T06:23:06.213260Z",
     "start_time": "2022-06-14T06:23:06.203683Z"
    }
   },
   "outputs": [],
   "source": [
    "def solution(n, times):\n",
    "    answer = []\n",
    "    start = min(times)\n",
    "    end = n * max(times)\n",
    "    \n",
    "    while start <= end:\n",
    "        people = 0\n",
    "        mid =  (start + end) // 2\n",
    "        \n",
    "        if n == start:\n",
    "            answer = start\n",
    "        \n",
    "        for i in times :\n",
    "            people += mid // i\n",
    "            if people >= n :\n",
    "                break\n",
    "                \n",
    "        if people >= n :\n",
    "            answer = mid\n",
    "            end = mid - 1\n",
    "        elif people < n :\n",
    "            start = mid + 1\n",
    "                  \n",
    "    return answer"
   ]
  },
  {
   "cell_type": "code",
   "execution_count": 2,
   "id": "5f18f6cb",
   "metadata": {
    "ExecuteTime": {
     "end_time": "2022-06-14T06:23:09.857576Z",
     "start_time": "2022-06-14T06:23:09.848422Z"
    }
   },
   "outputs": [
    {
     "data": {
      "text/plain": [
       "28"
      ]
     },
     "execution_count": 2,
     "metadata": {},
     "output_type": "execute_result"
    }
   ],
   "source": [
    "solution(6, [7,10])"
   ]
  },
  {
   "cell_type": "code",
   "execution_count": null,
   "id": "1773bdc7",
   "metadata": {},
   "outputs": [],
   "source": []
  }
 ],
 "metadata": {
  "kernelspec": {
   "display_name": "han",
   "language": "python",
   "name": "han"
  },
  "language_info": {
   "codemirror_mode": {
    "name": "ipython",
    "version": 3
   },
   "file_extension": ".py",
   "mimetype": "text/x-python",
   "name": "python",
   "nbconvert_exporter": "python",
   "pygments_lexer": "ipython3",
   "version": "3.8.13"
  },
  "toc": {
   "base_numbering": 1,
   "nav_menu": {},
   "number_sections": true,
   "sideBar": true,
   "skip_h1_title": false,
   "title_cell": "Table of Contents",
   "title_sidebar": "Contents",
   "toc_cell": false,
   "toc_position": {},
   "toc_section_display": true,
   "toc_window_display": false
  }
 },
 "nbformat": 4,
 "nbformat_minor": 5
}
