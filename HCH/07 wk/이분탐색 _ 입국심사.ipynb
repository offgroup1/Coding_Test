{
 "cells": [
  {
   "cell_type": "code",
   "execution_count": 17,
   "id": "ee5e5d3e",
   "metadata": {
    "ExecuteTime": {
     "end_time": "2022-06-08T08:06:11.519795Z",
     "start_time": "2022-06-08T08:06:11.516419Z"
    }
   },
   "outputs": [],
   "source": [
    "def solution(n, times):\n",
    "    answer = []\n",
    "    for i in range(1,n) :\n",
    "        for a in times :\n",
    "            answer.append(i*a)\n",
    "            \n",
    "    return sorted(answer)[n - 1]\n",
    "\n",
    "# TEST 3개 통과 \n",
    "# 나머지는 시간 초과로 실패"
   ]
  },
  {
   "cell_type": "code",
   "execution_count": 19,
   "id": "79c1d766",
   "metadata": {
    "ExecuteTime": {
     "end_time": "2022-06-08T08:13:48.782233Z",
     "start_time": "2022-06-08T08:13:48.778386Z"
    }
   },
   "outputs": [
    {
     "data": {
      "text/plain": [
       "30"
      ]
     },
     "execution_count": 19,
     "metadata": {},
     "output_type": "execute_result"
    }
   ],
   "source": [
    "solution(6, [7,10])"
   ]
  },
  {
   "cell_type": "code",
   "execution_count": 32,
   "id": "7d2b50e9",
   "metadata": {
    "ExecuteTime": {
     "end_time": "2022-06-08T08:24:58.287021Z",
     "start_time": "2022-06-08T08:24:58.284202Z"
    }
   },
   "outputs": [],
   "source": [
    "def solution(n, times):\n",
    "    return sorted([i * a for a in times for i in range(1,n)])\n",
    "\n",
    "# TEST 3개 통과 \n",
    "# 나머지는 시간 초과로 실패"
   ]
  },
  {
   "cell_type": "code",
   "execution_count": 33,
   "id": "6e0cbb01",
   "metadata": {
    "ExecuteTime": {
     "end_time": "2022-06-08T08:24:59.978639Z",
     "start_time": "2022-06-08T08:24:59.975048Z"
    },
    "scrolled": true
   },
   "outputs": [
    {
     "data": {
      "text/plain": [
       "[7, 10, 14, 20, 21, 28, 30, 35, 40, 50]"
      ]
     },
     "execution_count": 33,
     "metadata": {},
     "output_type": "execute_result"
    }
   ],
   "source": [
    "solution(6, [7,10])"
   ]
  },
  {
   "cell_type": "code",
   "execution_count": null,
   "id": "11b9cbcc",
   "metadata": {},
   "outputs": [],
   "source": []
  }
 ],
 "metadata": {
  "kernelspec": {
   "display_name": "han",
   "language": "python",
   "name": "han"
  },
  "language_info": {
   "codemirror_mode": {
    "name": "ipython",
    "version": 3
   },
   "file_extension": ".py",
   "mimetype": "text/x-python",
   "name": "python",
   "nbconvert_exporter": "python",
   "pygments_lexer": "ipython3",
   "version": "3.8.13"
  },
  "toc": {
   "base_numbering": 1,
   "nav_menu": {},
   "number_sections": true,
   "sideBar": true,
   "skip_h1_title": false,
   "title_cell": "Table of Contents",
   "title_sidebar": "Contents",
   "toc_cell": false,
   "toc_position": {},
   "toc_section_display": true,
   "toc_window_display": false
  }
 },
 "nbformat": 4,
 "nbformat_minor": 5
}
