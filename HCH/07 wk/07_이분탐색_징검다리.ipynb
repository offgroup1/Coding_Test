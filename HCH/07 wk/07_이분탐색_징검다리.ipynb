{
 "cells": [
  {
   "cell_type": "code",
   "execution_count": 5,
   "id": "541f7699",
   "metadata": {
    "ExecuteTime": {
     "end_time": "2022-06-14T06:36:56.042350Z",
     "start_time": "2022-06-14T06:36:56.038697Z"
    }
   },
   "outputs": [],
   "source": [
    "def solution(distance, rocks, n):\n",
    "    answer = []\n",
    "    rocks.append(distance)\n",
    "    rocks.append(0)\n",
    "    \n",
    "    for i, i2 in zip(sorted(rocks, reverse = True), sorted(rocks, reverse = True)[1:]) :\n",
    "        answer.append(i - i2)\n",
    "    \n",
    "    \n",
    "    return answer\n"
   ]
  },
  {
   "cell_type": "code",
   "execution_count": 6,
   "id": "c4769973",
   "metadata": {
    "ExecuteTime": {
     "end_time": "2022-06-14T06:36:56.500029Z",
     "start_time": "2022-06-14T06:36:56.495918Z"
    }
   },
   "outputs": [
    {
     "data": {
      "text/plain": [
       "[4, 4, 3, 3, 9, 2]"
      ]
     },
     "execution_count": 6,
     "metadata": {},
     "output_type": "execute_result"
    }
   ],
   "source": [
    "solution(25, [2,14,11,21,17], 2)"
   ]
  },
  {
   "cell_type": "code",
   "execution_count": null,
   "id": "5ca0efa8",
   "metadata": {},
   "outputs": [],
   "source": []
  }
 ],
 "metadata": {
  "kernelspec": {
   "display_name": "han",
   "language": "python",
   "name": "han"
  },
  "language_info": {
   "codemirror_mode": {
    "name": "ipython",
    "version": 3
   },
   "file_extension": ".py",
   "mimetype": "text/x-python",
   "name": "python",
   "nbconvert_exporter": "python",
   "pygments_lexer": "ipython3",
   "version": "3.8.13"
  },
  "toc": {
   "base_numbering": 1,
   "nav_menu": {},
   "number_sections": true,
   "sideBar": true,
   "skip_h1_title": false,
   "title_cell": "Table of Contents",
   "title_sidebar": "Contents",
   "toc_cell": false,
   "toc_position": {},
   "toc_section_display": true,
   "toc_window_display": false
  }
 },
 "nbformat": 4,
 "nbformat_minor": 5
}
