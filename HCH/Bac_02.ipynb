{
  "nbformat": 4,
  "nbformat_minor": 0,
  "metadata": {
    "colab": {
      "name": "Bac_02.ipynb",
      "provenance": [],
      "collapsed_sections": []
    },
    "kernelspec": {
      "name": "python3",
      "display_name": "Python 3"
    },
    "language_info": {
      "name": "python"
    }
  },
  "cells": [
    {
      "cell_type": "code",
      "execution_count": null,
      "metadata": {
        "colab": {
          "base_uri": "https://localhost:8080/"
        },
        "id": "lPILw0M72Igt",
        "outputId": "d63fb9e1-20fe-4eec-b56a-e9470cc6448e"
      },
      "outputs": [
        {
          "output_type": "stream",
          "name": "stdout",
          "text": [
            "5 5\n",
            "==\n"
          ]
        }
      ],
      "source": [
        "# Bac 2 - 1\n",
        "\n",
        "A,B = input().split()\n",
        "\n",
        "if A > B :\n",
        "    print(\">\")\n",
        "elif A < B :\n",
        "    print(\"<\")\n",
        "else :\n",
        "    print(\"==\")\n"
      ]
    },
    {
      "cell_type": "code",
      "source": [
        "# Bac 2 - 1\n",
        "\n",
        "A,B = map(int, input().split())\n",
        "\n",
        "if A > B :\n",
        "    print(\">\")\n",
        "elif A < B :\n",
        "    print(\"<\")\n",
        "else :\n",
        "    print(\"==\")\n",
        "\n",
        "## map이 있고 없고가 무슨차이 인가?"
      ],
      "metadata": {
        "id": "Lr6DwYO26yEK"
      },
      "execution_count": null,
      "outputs": []
    },
    {
      "cell_type": "code",
      "source": [
        "# Bac 2- 2\n",
        "\n",
        "user = input()\n",
        "user = int(user)\n",
        "\n",
        "if 90 <= user <= 100 :\n",
        "    print(\"A\")\n",
        "elif 80 <= user <= 89 :\n",
        "    print(\"B\")\n",
        "elif 70 <= user <= 79 :\n",
        "    print(\"c\")\n",
        "elif 60 <= user <= 69 :\n",
        "    print(\"D\")\n",
        "else :\n",
        "    print(\"F\")\n",
        "\n",
        "## 문제가 원하는 답은\n",
        "\n",
        "# user = int(input())"
      ],
      "metadata": {
        "colab": {
          "base_uri": "https://localhost:8080/"
        },
        "id": "fKCBqF3b8flt",
        "outputId": "9480eab6-671c-4cc8-c031-e26eeb2aca3c"
      },
      "execution_count": null,
      "outputs": [
        {
          "output_type": "stream",
          "name": "stdout",
          "text": [
            "55\n",
            "F\n"
          ]
        }
      ]
    },
    {
      "cell_type": "code",
      "source": [
        "# Bac 2 - 3\n",
        "\n",
        "user = int(input())\n",
        "\n",
        "if (user % 4 == 0) and (user%100 != 0) :\n",
        "    print(\"1\")\n",
        "else :\n",
        "    print(\"0\")\n",
        "\n",
        "## 틀림"
      ],
      "metadata": {
        "colab": {
          "base_uri": "https://localhost:8080/"
        },
        "id": "zXv-Uj-X9hYC",
        "outputId": "b770c53a-1775-4101-9ee4-230822b13536"
      },
      "execution_count": null,
      "outputs": [
        {
          "output_type": "stream",
          "name": "stdout",
          "text": [
            "2000\n",
            "0\n"
          ]
        }
      ]
    },
    {
      "cell_type": "code",
      "source": [
        "# Bac 2 - 3\n",
        "\n",
        "\n",
        "user = int(input())\n",
        "\n",
        "if ((user % 4 == 0) and (user%100 != 0)) or (user%400 == 0):\n",
        "    print(\"1\")\n",
        "else :\n",
        "    print(\"0\")"
      ],
      "metadata": {
        "colab": {
          "base_uri": "https://localhost:8080/"
        },
        "id": "qRPme8AzD9p3",
        "outputId": "ba1c9468-afc5-4e74-8301-7df5b189c6dc"
      },
      "execution_count": null,
      "outputs": [
        {
          "output_type": "stream",
          "name": "stdout",
          "text": [
            "2000\n",
            "1\n"
          ]
        }
      ]
    },
    {
      "cell_type": "code",
      "source": [
        "# Bac 2 - 4\n",
        "\n",
        "x = int(input())\n",
        "y = int(input())\n",
        "\n",
        "if x > 0 and y > 0 :\n",
        "    print(\"1\") \n",
        "elif x < 0 and y > 0 :\n",
        "    print(\"2\")\n",
        "elif x < 0 and y < 0 :\n",
        "    print(\"3\")\n",
        "else :\n",
        "    print(\"4\")"
      ],
      "metadata": {
        "colab": {
          "base_uri": "https://localhost:8080/"
        },
        "id": "AyZKo0I2GKq3",
        "outputId": "da5345b5-7c9c-48d4-b47f-8f1771890fa0"
      },
      "execution_count": null,
      "outputs": [
        {
          "output_type": "stream",
          "name": "stdout",
          "text": [
            "9\n",
            "-13\n",
            "4\n"
          ]
        }
      ]
    },
    {
      "cell_type": "code",
      "source": [
        "# Bac 2 -5 \n",
        "# 시간은 어떻게 표현??\n",
        "\n",
        "import datetime as dt\n",
        "\n",
        "dt.datetime.now()"
      ],
      "metadata": {
        "colab": {
          "base_uri": "https://localhost:8080/"
        },
        "id": "TENncTWyHn41",
        "outputId": "fd4e9fe3-76ce-44e8-f246-d457f0741e32"
      },
      "execution_count": null,
      "outputs": [
        {
          "output_type": "execute_result",
          "data": {
            "text/plain": [
              "datetime.datetime(2022, 4, 21, 8, 42, 27, 471363)"
            ]
          },
          "metadata": {},
          "execution_count": 13
        }
      ]
    },
    {
      "cell_type": "code",
      "source": [
        "# Bac 2 -5 시간 표현\n",
        "import datetime as dt\n",
        "\n",
        "H, M = input().split()\n",
        "A = f\"{H} : {M}\"\n",
        "\n",
        "d = dt.datetime.strptime(A,\"%H : %M\")\n",
        "\n",
        "alarm = d - dt.timedelta(minutes=45)\n",
        "print(alarm.strftime(\"%H : %M\"))\n",
        "\n"
      ],
      "metadata": {
        "colab": {
          "base_uri": "https://localhost:8080/"
        },
        "id": "aOpDCc9TSQyQ",
        "outputId": "046abef9-8a15-4f5f-f96b-13d3bdb5d4e4"
      },
      "execution_count": null,
      "outputs": [
        {
          "output_type": "stream",
          "name": "stdout",
          "text": [
            "0 30\n",
            "23 : 45\n"
          ]
        }
      ]
    },
    {
      "cell_type": "code",
      "source": [
        "# Bac 2 -5 시간 표현\n",
        "import datetime as dt\n",
        "\n",
        "H, M = input().split()\n",
        "\n",
        "d = dt.datetime.strptime(f\"{H} : {M}\",\"%H : %M\")\n",
        "\n",
        "alarm = d - dt.timedelta(minutes=45)\n",
        "print(alarm.strftime(\"%H : %M\"))"
      ],
      "metadata": {
        "colab": {
          "base_uri": "https://localhost:8080/"
        },
        "id": "GUNblyTBOtpG",
        "outputId": "74c6a24f-9859-48ec-c38d-f4564cb76a3e"
      },
      "execution_count": 2,
      "outputs": [
        {
          "output_type": "stream",
          "name": "stdout",
          "text": [
            "0 30\n",
            "23 : 45\n"
          ]
        }
      ]
    },
    {
      "cell_type": "code",
      "source": [
        "# Bac 2 -6 오븐구이\n",
        "import datetime as dt\n",
        "\n",
        "H, M = input().split()\n",
        "B = int(input())\n",
        "A = f\"{H} : {M}\"\n",
        "\n",
        "d = dt.datetime.strptime(A,\"%H : %M\")\n",
        "\n",
        "alarm = d + dt.timedelta(minutes=B)\n",
        "print(alarm.strftime(\"%H : %M\"))"
      ],
      "metadata": {
        "colab": {
          "base_uri": "https://localhost:8080/"
        },
        "id": "bqe5jLlwUNIT",
        "outputId": "22d863d3-2bd3-47d0-dbb7-2d4d2ea32f99"
      },
      "execution_count": null,
      "outputs": [
        {
          "output_type": "stream",
          "name": "stdout",
          "text": [
            "10 20\n",
            "20\n",
            "10 : 40\n"
          ]
        }
      ]
    },
    {
      "cell_type": "code",
      "source": [
        "# Bac 2 - 7\n",
        "A = map(int, input().split(\" \"))\n",
        "\n",
        "my_list = []\n",
        "for i in A :\n",
        "    my_list.append(i)\n",
        "my_list = set(my_list)\n",
        "\n",
        "if len(my_list) == 1 :\n",
        "\n",
        "## 중복 지워버리면 2개가 같을때 어떤 수를 곱할지 찾을 수 없음.\n"
      ],
      "metadata": {
        "id": "wKEz2zWBi4Mh",
        "colab": {
          "base_uri": "https://localhost:8080/"
        },
        "outputId": "7eb3916b-f04e-4591-b221-ea3889faa46a"
      },
      "execution_count": 13,
      "outputs": [
        {
          "name": "stdout",
          "output_type": "stream",
          "text": [
            "1 1 3\n"
          ]
        },
        {
          "output_type": "execute_result",
          "data": {
            "text/plain": [
              "{1, 3}"
            ]
          },
          "metadata": {},
          "execution_count": 13
        }
      ]
    },
    {
      "cell_type": "code",
      "source": [
        "# Bac 2 - 7\n",
        "a, b, c = map(int, input().split())\n",
        "\n",
        "if a == b == c:\n",
        "    print(10000 + (a * 1000))\n",
        "elif a == b or b == c:\n",
        "    print(1000 + (b * 100))\n",
        "elif a == c:\n",
        "    print(1000 + (a * 100))\n",
        "else:\n",
        "    print(max(a, b, c) * 100)"
      ],
      "metadata": {
        "colab": {
          "base_uri": "https://localhost:8080/"
        },
        "id": "wyaQQeIlQHy0",
        "outputId": "62fcf8a1-dbbc-437e-f30f-d4e106c79e68"
      },
      "execution_count": 14,
      "outputs": [
        {
          "output_type": "stream",
          "name": "stdout",
          "text": [
            "1 2 3\n",
            "300\n"
          ]
        }
      ]
    },
    {
      "cell_type": "code",
      "source": [
        ""
      ],
      "metadata": {
        "id": "QIPkMlXOU7Xk"
      },
      "execution_count": null,
      "outputs": []
    }
  ]
}