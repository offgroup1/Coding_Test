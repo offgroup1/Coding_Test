{
 "cells": [
  {
   "cell_type": "code",
   "execution_count": 1,
   "id": "2c7f267c",
   "metadata": {},
   "outputs": [],
   "source": [
    "import numpy as np\n",
    "import pandas as pd\n",
    "import matplotlib.pyplot as plt\n",
    "import seaborn as sns\n",
    "\n",
    "%precision 3\n",
    "%matplotlib inline"
   ]
  },
  {
   "cell_type": "markdown",
   "id": "2c2778d4",
   "metadata": {},
   "source": [
    "## 1차원 이산형 확률변수 정의"
   ]
  },
  {
   "cell_type": "markdown",
   "id": "20ee9750",
   "metadata": {},
   "source": [
    "### 이산형 vs 연속형\n",
    " - 이산형: 셀 수 있는 데이터\n",
    " - 연속형: 값들 사이에도 무수히 많은 값들이 존재가능한 데이터(셀 수 없음)\n",
    " \n",
    "### 확률변수\n",
    " - 변수가 취할 수 있는 값과 그 값이 나오는 확률에 의해 정의된다.\n",
    " \n",
    "### 이산형 확률변수 vs 연속형 확률변수\n",
    " - 이산형 확률변수: 확률변수로 취할 수 있는 값들이 셀 수 있는 데이터일때\n",
    " - 연속형 확률변수: 확률변수로 취할 수 있는 값들이 셀 수 없는 데이터일때"
   ]
  },
  {
   "cell_type": "markdown",
   "id": "129b7c72",
   "metadata": {},
   "source": [
    "### 확률질량함수 (Probability Mass Function: PMF)\n",
    "\n",
    " - 확률변수 X = [x_set, f]가 취할 수 있는 값(x_set)에 대한 집합을 {x1, x2, x3,...}으로 가정하면, 확률변수 X가 xk라는 값을 취할 확률은\n",
    " $$P(X=x) = p_k(k=1,2,...)$$\n",
    " 로 정의된다.\n",
    " \n",
    " - 확률은 변수가 취할 수 있는 값 x를 인수로 하는 함수이므로, \n",
    " $$f(x) = P(X=x)$$\n",
    " 로 표현할 수 있고, 이를 확률질량함수, 또는 확률함수라고 한다."
   ]
  },
  {
   "cell_type": "code",
   "execution_count": 2,
   "id": "62804763",
   "metadata": {},
   "outputs": [
    {
     "data": {
      "text/plain": [
       "array([1, 2, 3, 4, 5, 6])"
      ]
     },
     "execution_count": 2,
     "metadata": {},
     "output_type": "execute_result"
    }
   ],
   "source": [
    "## 예시 불공정한 주사위\n",
    "\n",
    "x_set = np.array([1, 2, 3, 4, 5, 6]) ## 확률변수 X가 취할 수 있는 값의 집합.\n",
    "x_set"
   ]
  },
  {
   "cell_type": "code",
   "execution_count": 3,
   "id": "8cb58456",
   "metadata": {},
   "outputs": [],
   "source": [
    "## 확률(질량)함수 (PMF)\n",
    "def f(x): ## 확률변수 X가 취할수 있는 값에 대한 확률(질량)함수.\n",
    "    if x in x_set:\n",
    "        return x/21\n",
    "    else:\n",
    "        return 0"
   ]
  },
  {
   "cell_type": "code",
   "execution_count": 4,
   "id": "3e3d61c8",
   "metadata": {},
   "outputs": [
    {
     "data": {
      "text/plain": [
       "[array([1, 2, 3, 4, 5, 6]), <function __main__.f(x)>]"
      ]
     },
     "execution_count": 4,
     "metadata": {},
     "output_type": "execute_result"
    }
   ],
   "source": [
    "## 확률변수 X\n",
    "\n",
    "X = [x_set, f] ## 확률변수(X) = [값의집합, 확률질량함수]\n",
    "X"
   ]
  },
  {
   "cell_type": "markdown",
   "id": "86391868",
   "metadata": {},
   "source": [
    "확률 $p_k = f(x_k)$"
   ]
  },
  {
   "cell_type": "code",
   "execution_count": 5,
   "id": "7cfc65a2",
   "metadata": {},
   "outputs": [
    {
     "data": {
      "text/plain": [
       "array([0.048, 0.095, 0.143, 0.19 , 0.238, 0.286])"
      ]
     },
     "execution_count": 5,
     "metadata": {},
     "output_type": "execute_result"
    }
   ],
   "source": [
    "prob = np.array([f(x_k) for x_k in x_set])\n",
    "prob"
   ]
  },
  {
   "cell_type": "markdown",
   "id": "b6dc18c7",
   "metadata": {},
   "source": [
    "$x_k$와 $p_k$의 대응식을 사전식으로 표현"
   ]
  },
  {
   "cell_type": "code",
   "execution_count": 7,
   "id": "84d918b7",
   "metadata": {},
   "outputs": [
    {
     "data": {
      "text/plain": [
       "{1: 0.048, 2: 0.095, 3: 0.143, 4: 0.190, 5: 0.238, 6: 0.286}"
      ]
     },
     "execution_count": 7,
     "metadata": {},
     "output_type": "execute_result"
    }
   ],
   "source": [
    "dict(zip(x_set, prob))"
   ]
  },
  {
   "cell_type": "markdown",
   "id": "09e3fae3",
   "metadata": {},
   "source": [
    "----"
   ]
  },
  {
   "cell_type": "markdown",
   "id": "658cda22",
   "metadata": {},
   "source": [
    "### 확률의 성질\n",
    " - 확률은 2가지 식을 만족하여야 한다.\n",
    "   > - 확률이 절대적으로 0이상이어야 한다. $f(x_k) >= 0$\n",
    "   > - 모든 확률을 더하면 1이 되어야 한다. $\\sum_kf(x_k) = 1$"
   ]
  },
  {
   "cell_type": "code",
   "execution_count": 8,
   "id": "b8d93889",
   "metadata": {},
   "outputs": [
    {
     "data": {
      "text/plain": [
       "True"
      ]
     },
     "execution_count": 8,
     "metadata": {},
     "output_type": "execute_result"
    }
   ],
   "source": [
    "np.all(prob >= 0)"
   ]
  },
  {
   "cell_type": "code",
   "execution_count": 9,
   "id": "d1828ab5",
   "metadata": {},
   "outputs": [
    {
     "data": {
      "text/plain": [
       "1.000"
      ]
     },
     "execution_count": 9,
     "metadata": {},
     "output_type": "execute_result"
    }
   ],
   "source": [
    "np.sum(prob)"
   ]
  },
  {
   "cell_type": "markdown",
   "id": "6df611e6",
   "metadata": {},
   "source": [
    "---"
   ]
  },
  {
   "cell_type": "markdown",
   "id": "fd8b86f0",
   "metadata": {},
   "source": [
    "### 누적분포함수 (Cumulative Distribution Function: CDF)\n",
    "\n",
    " - 확률함수 $P(X=x)$로 표현이 되지만, 누적분포함수는 $P(X<=x)$로 표현이 된다.\n",
    " - 즉, 확률변수 X가 x이하가 될 때의 확률을 반환하는 함수이다.\n",
    " - 확률(질량)함수는 소문자인 $f(x)$로 표현이 되고, 누적분포함수는 대문자인 $F(x)$로 표현이 된다.\n",
    " \n",
    " $$F(x) = P(X<=x) = \\sum_{x_k<=x}f(x_k)$$"
   ]
  },
  {
   "cell_type": "code",
   "execution_count": 10,
   "id": "7ee4149a",
   "metadata": {},
   "outputs": [],
   "source": [
    "## 누적분포함수(CDF)\n",
    "\n",
    "def F(x):\n",
    "    return np.sum([f(x_k) for x_k in x_set if x_k <= x])"
   ]
  },
  {
   "cell_type": "code",
   "execution_count": 16,
   "id": "3f009411",
   "metadata": {},
   "outputs": [
    {
     "data": {
      "text/plain": [
       "0.286"
      ]
     },
     "execution_count": 16,
     "metadata": {},
     "output_type": "execute_result"
    }
   ],
   "source": [
    "F(3)"
   ]
  },
  {
   "cell_type": "markdown",
   "id": "92a5e4df",
   "metadata": {},
   "source": [
    "---"
   ]
  },
  {
   "cell_type": "markdown",
   "id": "b50746b7",
   "metadata": {},
   "source": [
    "### 확률변수(X)의 변환\n",
    "\n",
    " - 확률변수 X에 2를 곱하고 3을 더한 2X+3과 같은 연산을 하는것\n",
    " - 2X+3으로 변환이 되어도, 확률변수 X가 취할 수 있는 값들만이 변화될 뿐, 그에 따른 확률값은 그대로 유지되어 2X+3또한 확률변수가 된다."
   ]
  },
  {
   "cell_type": "code",
   "execution_count": 17,
   "id": "4f6932c8",
   "metadata": {},
   "outputs": [
    {
     "data": {
      "text/plain": [
       "{5: 0.048, 7: 0.095, 9: 0.143, 11: 0.190, 13: 0.238, 15: 0.286}"
      ]
     },
     "execution_count": 17,
     "metadata": {},
     "output_type": "execute_result"
    }
   ],
   "source": [
    "y_set = np.array([2*x_k+3 for x_k in x_set])\n",
    "prob = np.array([f(x_k) for x_k in x_set])\n",
    "dict(zip(y_set, prob))"
   ]
  },
  {
   "cell_type": "markdown",
   "id": "7aabf32d",
   "metadata": {},
   "source": [
    "---\n",
    "---"
   ]
  },
  {
   "cell_type": "markdown",
   "id": "c66d6b44",
   "metadata": {},
   "source": [
    "## 1차원 이산형 확률변수 지표"
   ]
  },
  {
   "cell_type": "markdown",
   "id": "43a9eaf9",
   "metadata": {},
   "source": [
    "### 1차원 이산형 확률변수의 지표\n",
    "\n",
    " - 1차원 데이터의 지표인 평균과 분산을 동일하게 1차원 확률변수에도 정의 가능하다.\n",
    "  - 평균(Mean/Average) -> 기대값(Expectation)\n",
    "  - 분산(Variance) -> 분산(Variance)"
   ]
  },
  {
   "cell_type": "markdown",
   "id": "460fcc99",
   "metadata": {},
   "source": [
    "### 기대값 (Expectation, Expected Value)\n",
    "\n",
    " - 확률변수(X = [x_set, f])의 평균\n",
    " - 이상적인 기대값 계산 방법\n",
    "  : 확률변수를 무제한으로 시행하여 얻어진 실현값의 평균\n",
    " - 이산형 확률변수의 평균(기대값)\n",
    "  : 확률변수가 취할 수 있는 값과 그 확률의 곱의 총합으로 정의\n",
    "  $$E(x) = \\sum_{k}x_kf(x_k)$$\n",
    " - 기대값이 기호로 표현될 때는, $\\mu$(뮤)나 $E(X)$라는 표기를 주로 사용한다."
   ]
  },
  {
   "cell_type": "code",
   "execution_count": 18,
   "id": "34b2f0cc",
   "metadata": {},
   "outputs": [
    {
     "data": {
      "text/plain": [
       "4.333"
      ]
     },
     "execution_count": 18,
     "metadata": {},
     "output_type": "execute_result"
    }
   ],
   "source": [
    "## 불공정한 주사위의 기대값 계산.\n",
    "\n",
    "np.sum([x_k * f(x_k) for x_k in x_set])"
   ]
  },
  {
   "cell_type": "code",
   "execution_count": 21,
   "id": "bd64460c",
   "metadata": {},
   "outputs": [
    {
     "data": {
      "text/plain": [
       "4.330"
      ]
     },
     "execution_count": 21,
     "metadata": {},
     "output_type": "execute_result"
    }
   ],
   "source": [
    "## 이상적인 기대값 계산 방법인, 무제한 시행을 통해서 얻은 실현값의 평균으로 계산 (100만번 시행)\n",
    "\n",
    "sample = np.random.choice(x_set, int(1e6), p=prob)\n",
    "sample.mean()"
   ]
  },
  {
   "cell_type": "markdown",
   "id": "a5a52527",
   "metadata": {},
   "source": [
    " - 정의한 기대값 계산 결과값과 이상적인 계산을 어림잡아 계산한 기대값이 거의 비슷하다."
   ]
  },
  {
   "cell_type": "markdown",
   "id": "330683ec",
   "metadata": {},
   "source": [
    "#### 2X+3으로 변환한 확률변수 Y의 기대값  -> Y = 2X+3 = g(X)\n",
    "\n",
    " - 기대값은 $x_k$라는 값을 그대로 $2x_k+3$으로 치환한 다음 식으로 정의한다.\n",
    " \n",
    "$$E(Y)=E(2X+3)=\\sum_{k}(2x_k+3)f(x_k)$$\n",
    "\n",
    " - 더 일반화하면, 확률 변수 X가 변환된 함수 g(X)의 기대값은 다음 식으로 정의된다.\n",
    " \n",
    "$$E(2X+3)=E(g(X))=\\sum_{k}g(x_k)f(x_k)$$"
   ]
  },
  {
   "cell_type": "code",
   "execution_count": 22,
   "id": "560ce2e0",
   "metadata": {},
   "outputs": [],
   "source": [
    "def E(X, g=lambda x: x):\n",
    "    x_set, f = X\n",
    "    return np.sum([g(x_k) * f(x_k) for x_k in x_set])"
   ]
  },
  {
   "cell_type": "code",
   "execution_count": 23,
   "id": "8e999477",
   "metadata": {},
   "outputs": [
    {
     "data": {
      "text/plain": [
       "4.333"
      ]
     },
     "execution_count": 23,
     "metadata": {},
     "output_type": "execute_result"
    }
   ],
   "source": [
    "E(X)"
   ]
  },
  {
   "cell_type": "code",
   "execution_count": 28,
   "id": "9f2cc620",
   "metadata": {},
   "outputs": [
    {
     "data": {
      "text/plain": [
       "11.667"
      ]
     },
     "execution_count": 28,
     "metadata": {},
     "output_type": "execute_result"
    }
   ],
   "source": [
    "E(X, g=lambda x: 2*x+3)"
   ]
  },
  {
   "cell_type": "code",
   "execution_count": 27,
   "id": "8f3a232b",
   "metadata": {},
   "outputs": [
    {
     "data": {
      "text/plain": [
       "11.667"
      ]
     },
     "execution_count": 27,
     "metadata": {},
     "output_type": "execute_result"
    }
   ],
   "source": [
    "2*E(X)+3"
   ]
  },
  {
   "cell_type": "markdown",
   "id": "c5dbfcb4",
   "metadata": {},
   "source": [
    "#### 기대값의 선형성\n",
    " - a,b를 실수, X를 확률변수라 하면,\n",
    "$$E(aX+b)=aE(X)+3$$\n",
    "   가 성립한다"
   ]
  },
  {
   "cell_type": "markdown",
   "id": "e40aa9f7",
   "metadata": {},
   "source": [
    "---"
   ]
  },
  {
   "cell_type": "markdown",
   "id": "76372dad",
   "metadata": {},
   "source": [
    "### 분산 (Variance)\n",
    "\n",
    " - 편차 제곱의 기대값으로 정의된다.\n",
    " \n",
    "$$V(X)=\\sum_{k}(x_k-\\mu)^2f(x_k)$$\n",
    "\n",
    "   $\\mu$는 확률변수X의 기대값으로 E(X)이다.\n",
    " - 분산은 기호로 $\\sigma$(시그마)를 사용하고, $\\sigma^2$이나 V(X)로 흔히 표기한다.\n",
    " - $\\sigma$는 확률변수 X의 표준편차를 나타낸다."
   ]
  },
  {
   "cell_type": "code",
   "execution_count": 29,
   "id": "d0b7c66c",
   "metadata": {},
   "outputs": [
    {
     "data": {
      "text/plain": [
       "2.222"
      ]
     },
     "execution_count": 29,
     "metadata": {},
     "output_type": "execute_result"
    }
   ],
   "source": [
    "mean = E(X)\n",
    "np.sum([(x_k-mean)**2*f(x_k) for x_k in x_set])"
   ]
  },
  {
   "cell_type": "markdown",
   "id": "aec48b02",
   "metadata": {},
   "source": [
    "#### 변환된 확률변수의 분산\n",
    "\n",
    " - 2X+3으로 변환되어을때\n",
    " \n",
    "$$V(2X+3)=\\sum_{k}((2x_k+3)-E(2X+3))^2f(x_k)$$\n",
    "\n",
    " - g(X)로 변환되었을때\n",
    " \n",
    "$$V(g(X))=\\sum_{k}(g(x_k)-E(g(X))^2f(x_k)$$"
   ]
  },
  {
   "cell_type": "code",
   "execution_count": 30,
   "id": "ab7cf24e",
   "metadata": {},
   "outputs": [],
   "source": [
    "def V(X, g=lambda x: x):\n",
    "    x_set, f = X\n",
    "    mean = E(X, g)\n",
    "    return np.sum([(g(x_k)-mean)**2*f(x_k) for x_k in x_set])"
   ]
  },
  {
   "cell_type": "code",
   "execution_count": 31,
   "id": "29d1c14e",
   "metadata": {},
   "outputs": [
    {
     "data": {
      "text/plain": [
       "2.222"
      ]
     },
     "execution_count": 31,
     "metadata": {},
     "output_type": "execute_result"
    }
   ],
   "source": [
    "V(X)"
   ]
  },
  {
   "cell_type": "code",
   "execution_count": 32,
   "id": "0d34fdb2",
   "metadata": {},
   "outputs": [
    {
     "data": {
      "text/plain": [
       "8.889"
      ]
     },
     "execution_count": 32,
     "metadata": {},
     "output_type": "execute_result"
    }
   ],
   "source": [
    "V(X, g=lambda x: 2*x+3)"
   ]
  },
  {
   "cell_type": "markdown",
   "id": "71d4657f",
   "metadata": {},
   "source": [
    "#### 분산의 선형성\n",
    "\n",
    " - a,b를 실수, X를 확률변수라 하면,\n",
    " \n",
    " $$V(aX+b)=a^2V(X)$$\n",
    "   가 성립한다."
   ]
  },
  {
   "cell_type": "code",
   "execution_count": 33,
   "id": "4258b480",
   "metadata": {},
   "outputs": [
    {
     "data": {
      "text/plain": [
       "8.889"
      ]
     },
     "execution_count": 33,
     "metadata": {},
     "output_type": "execute_result"
    }
   ],
   "source": [
    "2**2*V(X)"
   ]
  },
  {
   "cell_type": "markdown",
   "id": "baf3de75",
   "metadata": {},
   "source": [
    "---"
   ]
  },
  {
   "cell_type": "markdown",
   "id": "5bc2fda9",
   "metadata": {},
   "source": [
    "## 2차원 이산형 확률변수 정의 (X, Y)"
   ]
  },
  {
   "cell_type": "markdown",
   "id": "ec0e44cb",
   "metadata": {},
   "source": [
    "#### 2차원 이산형 확률변수의 정의\n",
    "\n",
    " - 2차원 확률변수에서는 1차원 확률분포 2개 (X,Y)를 동시에 다룬다.\n",
    " - 각 확률변수(X,Y)가 취할 수 있는 값의 조합으로 이루어진 집합과 그 확률에 의해 정의된다.\n",
    " \n",
    "#### 결합확률분포 (Joint Probability Distribution)\n",
    " - (X,Y)가 취할 수 있는 값의 조합으로 이루어진 집합을\n",
    " $$\\{(x_i,y_j)|i=1,2,...;j=1,2,...\\}$$\n",
    "   라고 표현할 수 있으며, 각각 조합에 맞는 확률들은 다음과 같이 표현된다.\n",
    " $$P(X=x_i,Y=y_i)=p_{ij}(i=1,2,...;j=1,2,...)$$\n",
    "   이와 같이 확률변수 (X,Y)의 움직임을 동시에 고려한 분포를 결합확률분포라 한다."
   ]
  },
  {
   "cell_type": "markdown",
   "id": "ba31e6e3",
   "metadata": {},
   "source": [
    "#### 결합확률분포 예시1\n",
    "\n",
    " - X는 불공정한 주사위 A와 B 2개의 눈을 더한 것, Y는 불공정한 주사위 A의 눈으로 가정한다.\n",
    " - X가 취할 수 있는 값의 집합 x_set = [2,3,4,5,6,7,8,9,10,11,12]\n",
    " - Y가 취할 수 있는 값의 집합 y_set = [1,2,3,4,5,6]\n",
    " - X=9, Y=4일 때의 확률은? A=4, B=5의 눈이 나올 확률이므로\n",
    " \n",
    " $$4/21*5/21=20/441$$\n",
    "   이라고 계산할 수 있다."
   ]
  },
  {
   "cell_type": "markdown",
   "id": "73b66648",
   "metadata": {},
   "source": [
    "### 결합확률함수 (Joint Probability Function)\n",
    "\n",
    " - $P(X=x,Y=y)=f_{XY}(x,y)$가 되는 함수 $f_{xy}(x,y)$를 결합확률함수라 한다.\n",
    " \n",
    "#### 결합확률함수 예시(불공정 주사위 A,B기반 X=A+B, Y=A일때)\n",
    "\n"
   ]
  },
  {
   "cell_type": "markdown",
   "id": "fdba6d92",
   "metadata": {},
   "source": [
    "### 2차원 이산형 확률변수\n",
    "\n",
    " - 확률의 성질\n",
    " \n",
    " $$f_{XY}(x_i,y_j)>=0$$\n",
    " $$\\sum_i\\sum_jf_{XY}(x_i,y_j)=1$$"
   ]
  },
  {
   "cell_type": "code",
   "execution_count": 35,
   "id": "5de2c34c",
   "metadata": {},
   "outputs": [],
   "source": [
    "## 2차원 이산형 확률변수 X, Y (불공정 주사위)\n",
    "\n",
    "x_set = np.arange(2,12+1)\n",
    "y_set = np.arange(1,6+1)"
   ]
  },
  {
   "cell_type": "code",
   "execution_count": 36,
   "id": "43b81209",
   "metadata": {},
   "outputs": [],
   "source": [
    "## 결합확률함수\n",
    "\n",
    "def f_XY(x, y):\n",
    "    if 1<=y<=6 and 1<=(x-y)<=6:\n",
    "        return y * (x-y) / 441\n",
    "    else:\n",
    "        return 0"
   ]
  },
  {
   "cell_type": "code",
   "execution_count": 37,
   "id": "e0eaccaf",
   "metadata": {},
   "outputs": [
    {
     "data": {
      "text/plain": [
       "[array([ 2,  3,  4,  5,  6,  7,  8,  9, 10, 11, 12]),\n",
       " array([1, 2, 3, 4, 5, 6]),\n",
       " <function __main__.f_XY(x, y)>]"
      ]
     },
     "execution_count": 37,
     "metadata": {},
     "output_type": "execute_result"
    }
   ],
   "source": [
    "## 2차원 확률변수(XY)\n",
    "\n",
    "XY = [x_set, y_set, f_XY]\n",
    "XY"
   ]
  },
  {
   "cell_type": "code",
   "execution_count": 38,
   "id": "770d7d04",
   "metadata": {},
   "outputs": [
    {
     "data": {
      "text/plain": [
       "array([[0.002, 0.   , 0.   , 0.   , 0.   , 0.   ],\n",
       "       [0.005, 0.005, 0.   , 0.   , 0.   , 0.   ],\n",
       "       [0.007, 0.009, 0.007, 0.   , 0.   , 0.   ],\n",
       "       [0.009, 0.014, 0.014, 0.009, 0.   , 0.   ],\n",
       "       [0.011, 0.018, 0.02 , 0.018, 0.011, 0.   ],\n",
       "       [0.014, 0.023, 0.027, 0.027, 0.023, 0.014],\n",
       "       [0.   , 0.027, 0.034, 0.036, 0.034, 0.027],\n",
       "       [0.   , 0.   , 0.041, 0.045, 0.045, 0.041],\n",
       "       [0.   , 0.   , 0.   , 0.054, 0.057, 0.054],\n",
       "       [0.   , 0.   , 0.   , 0.   , 0.068, 0.068],\n",
       "       [0.   , 0.   , 0.   , 0.   , 0.   , 0.082]])"
      ]
     },
     "execution_count": 38,
     "metadata": {},
     "output_type": "execute_result"
    }
   ],
   "source": [
    "prob = np.array([\n",
    "    [\n",
    "        f_XY(x_i, y_j)\n",
    "        for y_j in y_set\n",
    "    ]\n",
    "    for x_i in x_set\n",
    "])\n",
    "\n",
    "prob"
   ]
  },
  {
   "cell_type": "markdown",
   "id": "b26f18b7",
   "metadata": {},
   "source": [
    " - 확률 분포 시각화 및 확률 성질 확인"
   ]
  },
  {
   "cell_type": "code",
   "execution_count": 48,
   "id": "e6f7093d",
   "metadata": {},
   "outputs": [
    {
     "data": {
      "image/png": "[encoded data removed]",
      "text/plain": [
       "<Figure size 720x576 with 2 Axes>"
      ]
     },
     "metadata": {
      "needs_background": "light"
     },
     "output_type": "display_data"
    }
   ],
   "source": [
    "f, ax = plt.subplots(1, 1, figsize=(10, 8))\n",
    "\n",
    "c = ax.pcolor(prob)\n",
    "ax.set_xticks(np.arange(prob.shape[1])+0.5, minor=False)\n",
    "ax.set_yticks(np.arange(prob.shape[0])+0.5, minor=False)\n",
    "ax.set_xticklabels(np.arange(1,7), minor=False)\n",
    "ax.set_yticklabels(np.arange(2,13), minor=False)\n",
    "\n",
    "# y축을 내림차순의 숫자가 되도록 위 아래를 반전한다\n",
    "ax.invert_yaxis()\n",
    "# x축 눈금을 그래프 위쪽에 표시\n",
    "ax.xaxis.tick_top()\n",
    "\n",
    "f.colorbar(c, ax=ax)\n",
    "\n",
    "plt.show()"
   ]
  },
  {
   "cell_type": "code",
   "execution_count": 49,
   "id": "5fa35639",
   "metadata": {},
   "outputs": [
    {
     "data": {
      "text/plain": [
       "True"
      ]
     },
     "execution_count": 49,
     "metadata": {},
     "output_type": "execute_result"
    }
   ],
   "source": [
    "np.all(prob >= 0)"
   ]
  },
  {
   "cell_type": "code",
   "execution_count": 50,
   "id": "0c143111",
   "metadata": {},
   "outputs": [
    {
     "data": {
      "text/plain": [
       "1.000"
      ]
     },
     "execution_count": 50,
     "metadata": {},
     "output_type": "execute_result"
    }
   ],
   "source": [
    "np.sum(prob)"
   ]
  },
  {
   "cell_type": "markdown",
   "id": "8851d145",
   "metadata": {},
   "source": [
    "---"
   ]
  },
  {
   "cell_type": "markdown",
   "id": "f4f87b0c",
   "metadata": {},
   "source": [
    "### 주변확률분포 (Marginal Probability Distribution)\n",
    "\n",
    " - 확률변수 (X,Y)가 결합확률분포에 의해 동시에 정의되었음에도 $(f_{XY}(x_i,y_j))$ 개별 확률변수 X의 확률분포 $(f_X(x))$만을 다시 살펴보아야할 때 이를 `주변확률분포`라 한다.\n",
    " - 주변확률분포는 아래 식을 통해 계산된다.\n",
    " $$f_X(x)=\\sum_kf_{XY}(x,y_k)$$"
   ]
  },
  {
   "cell_type": "code",
   "execution_count": 51,
   "id": "9169b4b5",
   "metadata": {},
   "outputs": [],
   "source": [
    "## 주변확률분포(함수)\n",
    "\n",
    "def f_X(x):\n",
    "    return np.sum(\n",
    "        [\n",
    "            f_XY(x, y_k) \n",
    "            for y_k in y_set\n",
    "        ]\n",
    "    )"
   ]
  },
  {
   "cell_type": "code",
   "execution_count": 52,
   "id": "8d415028",
   "metadata": {},
   "outputs": [],
   "source": [
    "def f_Y(y):\n",
    "    return np.sum(\n",
    "        [\n",
    "            f_XY(x_k, y)\n",
    "            for x_k in x_set\n",
    "        ]\n",
    "    )"
   ]
  },
  {
   "cell_type": "code",
   "execution_count": 53,
   "id": "caea9f1f",
   "metadata": {},
   "outputs": [],
   "source": [
    "X = [x_set, f_X]\n",
    "Y = [y_set, f_Y]"
   ]
  },
  {
   "cell_type": "code",
   "execution_count": 58,
   "id": "a802d8c3",
   "metadata": {},
   "outputs": [
    {
     "data": {
      "text/plain": [
       "array([0.002, 0.009, 0.023, 0.045, 0.079, 0.127, 0.159, 0.172, 0.166,\n",
       "       0.136, 0.082])"
      ]
     },
     "execution_count": 58,
     "metadata": {},
     "output_type": "execute_result"
    }
   ],
   "source": [
    "prob_x = np.array(\n",
    "    [\n",
    "        f_X(x_k) for x_k in x_set\n",
    "    ]\n",
    ")\n",
    "\n",
    "prob_y = np.array(\n",
    "    [\n",
    "        f_Y(y_k) for y_k in y_set\n",
    "    ]\n",
    ")\n",
    "\n",
    "prob_x"
   ]
  },
  {
   "cell_type": "code",
   "execution_count": 63,
   "id": "2d771cf7",
   "metadata": {},
   "outputs": [
    {
     "data": {
      "image/png": "[encoded data removed]",
      "text/plain": [
       "<Figure size 864x288 with 2 Axes>"
      ]
     },
     "metadata": {
      "needs_background": "light"
     },
     "output_type": "display_data"
    }
   ],
   "source": [
    "f, ax = plt.subplots(1,2, figsize=(12, 4))\n",
    "\n",
    "ax[0].bar(x_set, prob_x)\n",
    "ax[0].set_title('X_marginal probability distribution')\n",
    "ax[0].set_xlabel('X_value')\n",
    "ax[0].set_ylabel('probability')\n",
    "ax[0].set_xticks(x_set)\n",
    "\n",
    "\n",
    "ax[1].bar(y_set, prob_y)\n",
    "ax[1].set_title('Y_marginal probability distribution')\n",
    "ax[1].set_xlabel('Y_value')\n",
    "ax[1].set_ylabel('probability')\n",
    "\n",
    "plt.show()"
   ]
  },
  {
   "cell_type": "markdown",
   "id": "b1b914ed",
   "metadata": {},
   "source": [
    "---"
   ]
  },
  {
   "cell_type": "markdown",
   "id": "ce10e5f3",
   "metadata": {},
   "source": [
    "## 2차원 이산형 확률변수 지표\n",
    "\n",
    " - 기대값, 분산 뿐만 아니라 공분산 및 상관계수라는 지표를 함께 정의할 수 있다.\n",
    " \n",
    "### 1. 기대값\n",
    "\n",
    " - 구하는 방법은 1차원의 경우와 거의 동일하다.\n",
    " - 계산식\n",
    " $$\\mu_x=E(X)=\\sum_i\\sum_jx_if_{XY}(x_i,y_j)$$"
   ]
  },
  {
   "cell_type": "code",
   "execution_count": 66,
   "id": "9564d390",
   "metadata": {},
   "outputs": [
    {
     "data": {
      "text/plain": [
       "8.667"
      ]
     },
     "execution_count": 66,
     "metadata": {},
     "output_type": "execute_result"
    }
   ],
   "source": [
    "## 기대값 구현\n",
    "\n",
    "np.sum(\n",
    "    [\n",
    "        x_i * f_XY(x_i, y_j)\n",
    "        for x_i in x_set\n",
    "        for y_j in y_set\n",
    "    ]\n",
    ")"
   ]
  },
  {
   "cell_type": "markdown",
   "id": "8cafe2e6",
   "metadata": {},
   "source": [
    "### 1. 기대값의 일반화\n",
    "\n",
    " - 일반적인 g(X,Y)의 기대값을 정의하면 아래와 같다.\n",
    " $$E(g(X,Y))=\\sum_i\\sum_jg(x_i,y_j)f_{XY}(x_i,y_j)$$"
   ]
  },
  {
   "cell_type": "code",
   "execution_count": 67,
   "id": "963dab4e",
   "metadata": {},
   "outputs": [],
   "source": [
    "## 기대값의 일반화 구현\n",
    "\n",
    "def E(XY, g):\n",
    "    x_set, y_set, f_XY = XY\n",
    "    return np.sum(\n",
    "        [\n",
    "            g(x_i,y_j)*f_XY(x_i,y_j)\n",
    "            for x_i in x_set\n",
    "            for y_j in y_set\n",
    "        ]\n",
    "    )"
   ]
  },
  {
   "cell_type": "code",
   "execution_count": 68,
   "id": "df66b6e1",
   "metadata": {},
   "outputs": [
    {
     "data": {
      "text/plain": [
       "8.667"
      ]
     },
     "execution_count": 68,
     "metadata": {},
     "output_type": "execute_result"
    }
   ],
   "source": [
    "mean_X = E(XY, lambda x, y: x)\n",
    "mean_X"
   ]
  },
  {
   "cell_type": "code",
   "execution_count": 70,
   "id": "b1133bf9",
   "metadata": {},
   "outputs": [
    {
     "data": {
      "text/plain": [
       "4.333"
      ]
     },
     "execution_count": 70,
     "metadata": {},
     "output_type": "execute_result"
    }
   ],
   "source": [
    "mean_Y = E(XY, lambda x, y: y)\n",
    "mean_Y"
   ]
  },
  {
   "cell_type": "markdown",
   "id": "ac788c57",
   "metadata": {},
   "source": [
    "### 1. 기대값의 선형성\n",
    "\n",
    " - a,b를 실수 X, Y를 확률변수라 하면,\n",
    " $$E(aX+bY)=aE(X)+bE(Y)$$\n",
    "   가 성립한다"
   ]
  },
  {
   "cell_type": "code",
   "execution_count": 71,
   "id": "60c706a0",
   "metadata": {},
   "outputs": [],
   "source": [
    "a, b = 2, 3"
   ]
  },
  {
   "cell_type": "code",
   "execution_count": 72,
   "id": "559c8f65",
   "metadata": {},
   "outputs": [
    {
     "data": {
      "text/plain": [
       "30.333"
      ]
     },
     "execution_count": 72,
     "metadata": {},
     "output_type": "execute_result"
    }
   ],
   "source": [
    "E(XY, lambda x, y: a*x + b*y)"
   ]
  },
  {
   "cell_type": "code",
   "execution_count": 73,
   "id": "88a29596",
   "metadata": {},
   "outputs": [
    {
     "data": {
      "text/plain": [
       "30.333"
      ]
     },
     "execution_count": 73,
     "metadata": {},
     "output_type": "execute_result"
    }
   ],
   "source": [
    "a*mean_X + b*mean_Y"
   ]
  },
  {
   "cell_type": "markdown",
   "id": "aa74b150",
   "metadata": {},
   "source": [
    "----"
   ]
  },
  {
   "cell_type": "markdown",
   "id": "b024a713",
   "metadata": {},
   "source": [
    "### 2. 분산\n",
    "\n",
    " - 1차원의 경우와 거의 동일하며 산식은 아래와 같다.\n",
    " $$\\sigma_X^2=V(X)=\\sum_i\\sum_j(x_i-\\mu_x)^2f_{XY}(x_i,y_j)$$"
   ]
  },
  {
   "cell_type": "code",
   "execution_count": 74,
   "id": "5a564a12",
   "metadata": {},
   "outputs": [
    {
     "data": {
      "text/plain": [
       "4.444"
      ]
     },
     "execution_count": 74,
     "metadata": {},
     "output_type": "execute_result"
    }
   ],
   "source": [
    "np.sum(\n",
    "    [\n",
    "        (x_i-E(XY,lambda x, y:x))**2*f_XY(x_i, y_j)\n",
    "        for x_i in x_set\n",
    "        for y_j in y_set\n",
    "    ]\n",
    ")"
   ]
  },
  {
   "cell_type": "markdown",
   "id": "0b4c62c8",
   "metadata": {},
   "source": [
    "### 2. 분산의 일반화\n",
    "\n",
    " - X와 Y의 함수 g(X, Y)의 분산의 산식은 아래와 같다.\n",
    " \n",
    " $$V(g(X,Y))=\\sum_i\\sum_j(g(x_i,y_j)-E(g(X,Y))^2f_{XY}(x_i,y_j)$$"
   ]
  },
  {
   "cell_type": "code",
   "execution_count": 75,
   "id": "0ed54534",
   "metadata": {},
   "outputs": [],
   "source": [
    "def V(XY, g):\n",
    "    x_set, y_set, f_XY = XY\n",
    "    return np.sum(\n",
    "        [\n",
    "            (g(x_i, y_j)-E(XY, g))**2*f_XY(x_i,y_j)\n",
    "            for x_i in x_set\n",
    "            for y_j in y_set\n",
    "        ]\n",
    "    )"
   ]
  },
  {
   "cell_type": "code",
   "execution_count": 85,
   "id": "9d25397b",
   "metadata": {},
   "outputs": [],
   "source": [
    "var_X = V(XY, lambda x, y: x)"
   ]
  },
  {
   "cell_type": "code",
   "execution_count": 84,
   "id": "4ca8538f",
   "metadata": {},
   "outputs": [],
   "source": [
    "var_Y = V(XY, lambda x, y: y)"
   ]
  },
  {
   "cell_type": "markdown",
   "id": "946df4dd",
   "metadata": {},
   "source": [
    "---"
   ]
  },
  {
   "cell_type": "markdown",
   "id": "4fd154f0",
   "metadata": {},
   "source": [
    "### 3. 공분산\n",
    "\n",
    " - 공분산 사용시 X, Y 사이에 어느 정도 상관이 있는지 알 수 있다.\n",
    " $$\\sigma_{XY}=Cov(X,Y)=\\sum_i\\sum_j(x_i-\\mu_X)(y_j-\\mu_Y)f_{XY}(x_i,y_j)$$"
   ]
  },
  {
   "cell_type": "code",
   "execution_count": 78,
   "id": "1dab0ee9",
   "metadata": {},
   "outputs": [
    {
     "data": {
      "text/plain": [
       "2.222"
      ]
     },
     "execution_count": 78,
     "metadata": {},
     "output_type": "execute_result"
    }
   ],
   "source": [
    "## 공분산 구현\n",
    "\n",
    "np.sum(\n",
    "    [\n",
    "        (x_i-mean_X)*(y_j-mean_Y)*f_XY(x_i,y_j)\n",
    "        for x_i in x_set\n",
    "        for y_j in y_set\n",
    "    ]\n",
    ")"
   ]
  },
  {
   "cell_type": "code",
   "execution_count": 79,
   "id": "cd5ef9d5",
   "metadata": {},
   "outputs": [],
   "source": [
    "def COV(XY):\n",
    "    x_set, y_set, f_XY = XY\n",
    "    mean_X = E(XY, lambda x,y: x)\n",
    "    mean_Y = E(XY, lambda x,y: y)\n",
    "    return np.sum(\n",
    "        [\n",
    "            (x_i-mean_X)*(y_j-mean_Y)*f_XY(x_i,y_j)\n",
    "            for x_i in x_set\n",
    "            for y_j in y_set\n",
    "        ]\n",
    "    )"
   ]
  },
  {
   "cell_type": "code",
   "execution_count": 83,
   "id": "f482ed93",
   "metadata": {},
   "outputs": [],
   "source": [
    "cov_xy = COV(XY)"
   ]
  },
  {
   "cell_type": "markdown",
   "id": "49946441",
   "metadata": {},
   "source": [
    "### 분산과 공분산의 공식\n",
    "\n",
    "a,b를 실수 X, Y를 확률변수라 하면\n",
    "$$V(aX+bY)=a^2V(X)+b^2V(Y)+2abCov(X,Y)$$\n",
    "가 성립한다"
   ]
  },
  {
   "cell_type": "code",
   "execution_count": 81,
   "id": "856584a4",
   "metadata": {},
   "outputs": [
    {
     "data": {
      "text/plain": [
       "64.444"
      ]
     },
     "execution_count": 81,
     "metadata": {},
     "output_type": "execute_result"
    }
   ],
   "source": [
    "V(XY, lambda x, y: 2*x + 3*y)"
   ]
  },
  {
   "cell_type": "code",
   "execution_count": 82,
   "id": "6b0ca2c2",
   "metadata": {},
   "outputs": [
    {
     "data": {
      "text/plain": [
       "64.444"
      ]
     },
     "execution_count": 82,
     "metadata": {},
     "output_type": "execute_result"
    }
   ],
   "source": [
    "2**2*V(XY, lambda x,y: x) + 3**2*V(XY, lambda x,y: y) + 2*2*3*COV(XY)"
   ]
  },
  {
   "cell_type": "markdown",
   "id": "e00daaa7",
   "metadata": {},
   "source": [
    "### 4. 상관계수\n",
    "\n",
    " - 확률변수의 상관계수는 공분산을 각각의 표준편차로 나누어서 구한다.\n",
    "   기호는 $\\rho$(로우)를 사용한다\n",
    "   \n",
    "   $$\\rho_{XY}=\\rho(X,Y)=\\sigma_{XY}/\\sigma_X\\sigma_Y$$"
   ]
  },
  {
   "cell_type": "code",
   "execution_count": 86,
   "id": "97912b95",
   "metadata": {},
   "outputs": [
    {
     "data": {
      "text/plain": [
       "0.707"
      ]
     },
     "execution_count": 86,
     "metadata": {},
     "output_type": "execute_result"
    }
   ],
   "source": [
    "cov_xy/np.sqrt(var_X*var_Y)"
   ]
  },
  {
   "cell_type": "code",
   "execution_count": null,
   "id": "1255bf10",
   "metadata": {},
   "outputs": [],
   "source": []
  }
 ],
 "metadata": {
  "kernelspec": {
   "display_name": "Python 3 (ipykernel)",
   "language": "python",
   "name": "python3"
  },
  "language_info": {
   "codemirror_mode": {
    "name": "ipython",
    "version": 3
   },
   "file_extension": ".py",
   "mimetype": "text/x-python",
   "name": "python",
   "nbconvert_exporter": "python",
   "pygments_lexer": "ipython3",
   "version": "3.8.13"
  }
 },
 "nbformat": 4,
 "nbformat_minor": 5
}
