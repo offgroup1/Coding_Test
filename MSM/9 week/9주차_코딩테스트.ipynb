{
 "cells": [
  {
   "cell_type": "markdown",
   "id": "fc01ba37",
   "metadata": {},
   "source": [
    "## 모의 고사"
   ]
  },
  {
   "cell_type": "markdown",
   "id": "27d4f173",
   "metadata": {},
   "source": [
    " - 이번 회차의 경우 두 문제 모두 스스로 해결하지 못했음. \n",
    " - 모의고사 문제의 경우 다른 사람들이 푼 것을 보고 이해하였지만 H-index의 경우 아직도 이해가 잘 가지 않음."
   ]
  },
  {
   "cell_type": "code",
   "execution_count": null,
   "id": "0b479846",
   "metadata": {},
   "outputs": [],
   "source": [
    "def solution(answers):\n",
    "    student_1 = [1,2,3,4,5]\n",
    "    score_1 = 0\n",
    "    student_2 = [2,1,2,3,2,4,2,5]\n",
    "    score_2 = 0\n",
    "    student_3 = [3,3,1,1,2,2,4,4,5,5]\n",
    "    score_3 = 0\n",
    "    \n",
    "    \n",
    "    for idx in range(len(answers)):\n",
    "        idx_1 = idx % 5\n",
    "        idx_2 = idx % 8\n",
    "        idx_3 = idx % 10\n",
    "        \n",
    "        if student_1[idx_1] == answers[idx]:\n",
    "            score_1 += 1\n",
    "        if student_2[idx_2] == answers[idx]:\n",
    "            score_2 += 1\n",
    "        if student_3[idx_3] == answers[idx]:\n",
    "            score_3 += 1\n",
    "            \n",
    "        \n",
    "    max_num = max(score_1, score_2, score_3)\n",
    "    answer = []\n",
    "    \n",
    "    if score_1 == max_num:\n",
    "        answer.append(1)\n",
    "    if score_2 == max_num:\n",
    "        answer.append(2)\n",
    "    if score_3 == max_num:\n",
    "        answer.append(3)\n",
    "    \n",
    "    return answer"
   ]
  },
  {
   "cell_type": "markdown",
   "id": "e265905b",
   "metadata": {},
   "source": [
    "---"
   ]
  },
  {
   "cell_type": "markdown",
   "id": "9b8f2b0b",
   "metadata": {},
   "source": [
    "## H-index"
   ]
  },
  {
   "cell_type": "code",
   "execution_count": 1,
   "id": "dd85c2d0",
   "metadata": {},
   "outputs": [],
   "source": [
    "def solution(citations):\n",
    "    citations.sort(reverse=True)\n",
    "    for idx , citation in enumerate(citations):\n",
    "        if idx >= citation:\n",
    "            return idx\n",
    "    return len(citations)"
   ]
  },
  {
   "cell_type": "code",
   "execution_count": null,
   "id": "ed762c8e",
   "metadata": {},
   "outputs": [],
   "source": []
  }
 ],
 "metadata": {
  "kernelspec": {
   "display_name": "Python 3 (ipykernel)",
   "language": "python",
   "name": "python3"
  },
  "language_info": {
   "codemirror_mode": {
    "name": "ipython",
    "version": 3
   },
   "file_extension": ".py",
   "mimetype": "text/x-python",
   "name": "python",
   "nbconvert_exporter": "python",
   "pygments_lexer": "ipython3",
   "version": "3.8.13"
  }
 },
 "nbformat": 4,
 "nbformat_minor": 5
}
